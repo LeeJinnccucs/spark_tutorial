{
 "cells": [
  {
   "cell_type": "markdown",
   "metadata": {},
   "source": [
    "# Parse Json"
   ]
  },
  {
   "cell_type": "code",
   "execution_count": null,
   "metadata": {
    "collapsed": true
   },
   "outputs": [],
   "source": [
    "def parseRaw(json_map):\n",
    "    url = json_map['url']\n",
    "    content = json_map['html']\n",
    "    return (url,content)"
   ]
  },
  {
   "cell_type": "markdown",
   "metadata": {},
   "source": [
    "# 載入原始 RAW Data"
   ]
  },
  {
   "cell_type": "code",
   "execution_count": null,
   "metadata": {
    "collapsed": false
   },
   "outputs": [],
   "source": [
    "import json\n",
    "import pprint\n",
    "pp = pprint.PrettyPrinter(indent=2)\n",
    "path = \"./pixnet.txt\"\n",
    "all_content = sc.textFile(path).map(json.loads).map(parseRaw)"
   ]
  },
  {
   "cell_type": "markdown",
   "metadata": {},
   "source": [
    "# 使用 BeautifulSoup 及 Jieba 來處理文章內容"
   ]
  },
  {
   "cell_type": "markdown",
   "metadata": {},
   "source": [
    "### BeautifulSoup \n",
    "- [Official Doc](http://www.crummy.com/software/BeautifulSoup/bs4/doc/)\n",
    "- BeautifulSoup 是一個常用來 parsing HTML 或是 XML 文件的強大工具，只要把標準格式的資料以字串型態帶入，就能夠以物件屬性的方式操作文件裡各個區塊。(ex. soup.title.name, soup.p, soup.b.attrs, soup.p['class'], ...)  \n",
    "- 實用涵式\n",
    "    - soup.find_all('a'): get a list\n",
    "    - soup.{element}.get_text(): get a string\n",
    "    - soup.{element}.get('href'): get a string\n",
    "    - soup.{element}.contents: get element's childrens in a list\n",
    "        - soup.{element}.contents[0].name\n",
    "    - soup.descendants: let user iterate over all of a tag’s children\n",
    "    - soup.prettify(): show document in the format frendly to viewer\n",
    "    \n",
    "### Jieba\n",
    "- [Official Doc](https://github.com/fxsjy/jieba/blob/master/README.md)\n",
    "- [FUKUBALL Blog](http://blog.fukuball.com/ru-he-shi-yong-jieba-jie-ba-zhong-wen-fen-ci-cheng-shi/)\n",
    "- Jieba 是知名的 open source 中文斷詞系統，default 為簡體語系，但能支援設定繁體語庫或是自定義語庫(ex. 自建台語語庫)。支援的功能有：基本斷詞、詞性判斷、TF-IDF文章關鍵字萃取。\n",
    "- 實用涵式\n",
    "    - jieba.cut(sentence, cut_all=False): 基本斷詞\n",
    "        - False(精确模式): 對內文做最精確的分析\n",
    "        - True(全模式): 把所有可能的斷詞都列出來\n",
    "    - jieba.cut_for_search(sentence）: 搜索引擎模式\n",
    "        - 以精確模式為基礎，對長詞再次切分，提高recall比例，適合搜尋相關應用。\n",
    "    - jieba.set_dictionary('dict.txt'): 指定語庫\n",
    "    - jieba.posseg.cut(): 取出斷詞及詞性 (回傳值具有 word 及 flag 屬性，flag 極為詞性)\n",
    "    - jieba.analyse.extract_tags(sentence, tag_num): 文章提取關鍵字"
   ]
  },
  {
   "cell_type": "code",
   "execution_count": null,
   "metadata": {
    "collapsed": false
   },
   "outputs": [],
   "source": [
    "def getContent(x):\n",
    "    from bs4 import BeautifulSoup\n",
    "    soup = BeautifulSoup(x)\n",
    "    text = soup.getText().replace('\\n','').replace('\\r','').replace(' ','').replace('\\t','')\n",
    "    import jieba\n",
    "    r = list()\n",
    "    \n",
    "\n",
    "    for term in jieba.cut(text):\n",
    "        if len(term) > 1 and checkword(term): r.append(term)\n",
    "    return r\n",
    "def checkword(x):\n",
    "    return all(u'\\u4e00' <= c <= u'\\u9fff' for c in x)"
   ]
  },
  {
   "cell_type": "markdown",
   "metadata": {},
   "source": [
    "# 印出第一筆資料"
   ]
  },
  {
   "cell_type": "code",
   "execution_count": null,
   "metadata": {
    "collapsed": false
   },
   "outputs": [],
   "source": [
    "parsed = all_content.mapValues(lambda x : getContent(x))\n",
    "print 'url:',parsed.first()[0]\n",
    "print 'term:',\n",
    "for term in parsed.first()[1][:10] :\n",
    "    print term , "
   ]
  },
  {
   "cell_type": "markdown",
   "metadata": {
    "collapsed": true
   },
   "source": [
    "# 請完成以下程碼來計算 Global 詞頻，並取出前 10 個最常出現的詞"
   ]
  },
  {
   "cell_type": "code",
   "execution_count": null,
   "metadata": {
    "collapsed": false
   },
   "outputs": [],
   "source": [
    "for i in parsed.map(lambda x: x[1]).flatMap(lambda x : x).take(10):\n",
    "    print i"
   ]
  },
  {
   "cell_type": "markdown",
   "metadata": {},
   "source": [
    "#依照詞頻由高到低取出前 10 "
   ]
  },
  {
   "cell_type": "code",
   "execution_count": null,
   "metadata": {
    "collapsed": false
   },
   "outputs": [],
   "source": [
    "from operator import add\n",
    "top_term = parsed.map(\n",
    "    lambda x: x[1]).flatMap(\n",
    "    lambda x : x).map(\n",
    "    lambda x: (x,1)).reduceByKey(\n",
    "    add).sortBy(\n",
    "    lambda x: x[1],ascending=False)\n",
    "for term in top_term.take(10):\n",
    "    print term[0] , term[1]"
   ]
  },
  {
   "cell_type": "markdown",
   "metadata": {},
   "source": [
    "# 產生 WordCloud"
   ]
  },
  {
   "cell_type": "code",
   "execution_count": null,
   "metadata": {
    "collapsed": false
   },
   "outputs": [],
   "source": [
    "%matplotlib inline\n",
    "import matplotlib.pyplot as plt\n",
    "from wordcloud import WordCloud, STOPWORDS"
   ]
  },
  {
   "cell_type": "code",
   "execution_count": null,
   "metadata": {
    "collapsed": false
   },
   "outputs": [],
   "source": [
    "no_urls_no_tags  = \" \".join(top_term.map(lambda x : x[0]).take(30))\n",
    "wordcloud = WordCloud(\n",
    "                      font_path='./cwTeXQFangsong-Medium.ttf',\n",
    "                      background_color='white',\n",
    "                      width=600,\n",
    "                      height=600\n",
    "                     ).generate(no_urls_no_tags)\n",
    "\n",
    "plt.imshow(wordcloud)\n",
    "plt.axis('off')\n",
    "plt.show()"
   ]
  },
  {
   "cell_type": "markdown",
   "metadata": {
    "collapsed": true
   },
   "source": [
    "#考題 : 反向由小到大，取出最小的40個字，並畫出 WordCloud"
   ]
  },
  {
   "cell_type": "code",
   "execution_count": null,
   "metadata": {
    "collapsed": false
   },
   "outputs": [],
   "source": [
    "top_term2 = parsed.map(\n",
    "    lambda x: x[1]).flatMap(\n",
    "    lambda x : x).map(\n",
    "    lambda x: (x,1)).reduceByKey(\n",
    "    add).sortBy(\n",
    "    lambda x: x[1],ascending=??)"
   ]
  },
  {
   "cell_type": "code",
   "execution_count": null,
   "metadata": {
    "collapsed": false
   },
   "outputs": [],
   "source": [
    "no_urls_no_tags  = \" \".join(top_term2.map(lambda x : x[0]).take(??))\n",
    "wordcloud = WordCloud(\n",
    "                      font_path='./cwTeXQFangsong-Medium.ttf',\n",
    "                      background_color='white',\n",
    "                      width=600,\n",
    "                      height=600\n",
    "                     ).generate(no_urls_no_tags)\n",
    "\n",
    "plt.imshow(wordcloud)\n",
    "plt.axis('off')\n",
    "plt.show()"
   ]
  },
  {
   "cell_type": "code",
   "execution_count": null,
   "metadata": {
    "collapsed": true
   },
   "outputs": [],
   "source": []
  }
 ],
 "metadata": {
  "kernelspec": {
   "display_name": "Python 2",
   "language": "python",
   "name": "python2"
  },
  "language_info": {
   "codemirror_mode": {
    "name": "ipython",
    "version": 2
   },
   "file_extension": ".py",
   "mimetype": "text/x-python",
   "name": "python",
   "nbconvert_exporter": "python",
   "pygments_lexer": "ipython2",
   "version": "2.7.6"
  }
 },
 "nbformat": 4,
 "nbformat_minor": 0
}
