{
 "cells": [
  {
   "cell_type": "markdown",
   "metadata": {},
   "source": [
    "##Article searching and Restaurant Matching\n",
    "\n",
    "實作簡易的文章搜尋系統，以及標題餐廳推薦"
   ]
  },
  {
   "cell_type": "markdown",
   "metadata": {},
   "source": [
    "## 第一部分  文章搜尋系統"
   ]
  },
  {
   "cell_type": "markdown",
   "metadata": {},
   "source": [
    "### 引入Json檔，並且將所需資料（類別，URL，名稱）"
   ]
  },
  {
   "cell_type": "code",
   "execution_count": 2,
   "metadata": {
    "collapsed": false
   },
   "outputs": [
    {
     "name": "stdout",
     "output_type": "stream",
     "text": [
      "<class 'pyspark.rdd.PipelinedRDD'>\n"
     ]
    }
   ],
   "source": [
    "import copy\n",
    "from pyspark.sql import SQLContext\n",
    "import json\n",
    "\n",
    "sqlContext = SQLContext(sc)\n",
    "df = sqlContext.jsonFile(\"./spark_tutorial_article.json\")\n",
    "\n",
    "gf = df.map(lambda x : (x[2],x[5],x[12]))\n",
    "\n",
    "print type(gf)\n",
    "#spark.read.json(sc.wholeTextFiles('./spark_tutorial_article.json').values())"
   ]
  },
  {
   "cell_type": "code",
   "execution_count": 3,
   "metadata": {
    "collapsed": false
   },
   "outputs": [],
   "source": [
    "#sc.textFile(\"./spark_tutorial_article.json\").map(json.loads).take(1)[0][u'author']"
   ]
  },
  {
   "cell_type": "markdown",
   "metadata": {},
   "source": [
    "### 用BeautifulSoup擷取內容，並套用Jieba斷詞"
   ]
  },
  {
   "cell_type": "code",
   "execution_count": 4,
   "metadata": {
    "collapsed": false
   },
   "outputs": [],
   "source": [
    "## getContent: for input aritcle, get it own word set via jieba.cut()\n",
    "def getContent(x):\n",
    "    from bs4 import BeautifulSoup\n",
    "    soup = BeautifulSoup(x)\n",
    "    text = soup.getText().replace('\\n','').replace('\\r','').replace(' ','').replace('\\t','')\n",
    "    import jieba\n",
    "    r = list()\n",
    "    for term in jieba.cut(text):\n",
    "        if len(term) > 1 and checkword(term): r.append(term)\n",
    "    return r\n",
    "\n",
    "def checkword(x):\n",
    "    return all(u'\\u4e00' <= c <= u'\\u9fff' for c in x)"
   ]
  },
  {
   "cell_type": "code",
   "execution_count": 5,
   "metadata": {
    "collapsed": false
   },
   "outputs": [],
   "source": [
    "text_token = gf.map(lambda x: (x[0], getContent(x[1]), x[2]))"
   ]
  },
  {
   "cell_type": "code",
   "execution_count": 6,
   "metadata": {
    "collapsed": false
   },
   "outputs": [],
   "source": [
    "#check text_token\n",
    "#text_token.first()\n",
    "#text_token.count()"
   ]
  },
  {
   "cell_type": "markdown",
   "metadata": {},
   "source": [
    "### 計算每篇文章的TF-IDF Vector"
   ]
  },
  {
   "cell_type": "code",
   "execution_count": 7,
   "metadata": {
    "collapsed": true
   },
   "outputs": [],
   "source": [
    "def cal_tf(tokens):\n",
    "    d = {}\n",
    "    for word in tokens:\n",
    "        if not word in d:\n",
    "            d[word] = 1\n",
    "        else:\n",
    "            d[word] += 1\n",
    "    for word in d:\n",
    "        d[word] = float(d[word])/len(tokens)\n",
    "    return d\n",
    "\n",
    "text_token_tf = text_token.map(lambda x: cal_tf(x[1]))"
   ]
  },
  {
   "cell_type": "code",
   "execution_count": 8,
   "metadata": {
    "collapsed": false
   },
   "outputs": [],
   "source": [
    "#check text_token_tf\n",
    "#text_token_tf.first()"
   ]
  },
  {
   "cell_type": "code",
   "execution_count": 9,
   "metadata": {
    "collapsed": false
   },
   "outputs": [],
   "source": [
    "def cal_idf(docs):\n",
    "    N = docs.count()\n",
    "    uniqueTokens = docs.map(lambda x : list(set(x[1])))\n",
    "    token_sum_tuples = uniqueTokens.flatMap(lambda x: x).map(lambda x: (x, 1)).reduceByKey(lambda x,y: x+y)\n",
    "    return token_sum_tuples.map(lambda x : (x[0], float(N)/x[1]))"
   ]
  },
  {
   "cell_type": "code",
   "execution_count": 10,
   "metadata": {
    "collapsed": true
   },
   "outputs": [],
   "source": [
    "def TFIDF(tokens, idfs):\n",
    "    tfidf_Dict = {}\n",
    "    tfs = cal_tf(tokens)\n",
    "    for tk in tfs:\n",
    "        tfs[tk] = tfs[tk]*idfs[tk]\n",
    "    tfidf_Dict = tfs\n",
    "    return tfidf_Dict"
   ]
  },
  {
   "cell_type": "code",
   "execution_count": 11,
   "metadata": {
    "collapsed": false
   },
   "outputs": [
    {
     "name": "stdout",
     "output_type": "stream",
     "text": [
      "美味食記\n"
     ]
    }
   ],
   "source": [
    "doc_idfs = cal_idf(text_token)\n",
    "\n",
    "doc_c = doc_idfs.collectAsMap()  #my idf dict\n",
    "\n",
    "text_tfidf = TFIDF(text_token.collect()[0][1], doc_c)\n",
    "\n",
    "print text_token.collect()[0][0]"
   ]
  },
  {
   "cell_type": "code",
   "execution_count": 12,
   "metadata": {
    "collapsed": false
   },
   "outputs": [],
   "source": [
    "#check text_tfidf\n",
    "#text_tfidf\n",
    "#text_token.collect()[0][1]"
   ]
  },
  {
   "cell_type": "markdown",
   "metadata": {
    "collapsed": false
   },
   "source": [
    "### 計算Cosine similarity"
   ]
  },
  {
   "cell_type": "code",
   "execution_count": 13,
   "metadata": {
    "collapsed": true
   },
   "outputs": [],
   "source": [
    "import math\n",
    "\n",
    "def dotprod(a, b):\n",
    "    dotsum = 0\n",
    "    for tk in a:\n",
    "        if tk in b:\n",
    "            dotsum += a[tk]*b[tk]\n",
    "    return dotsum\n",
    "\n",
    "def norm(a):\n",
    "    return math.sqrt(dotprod(a,a))\n",
    "\n",
    "def cossim(a, b):\n",
    "    return dotprod(a,b)/(norm(a) * norm(b))"
   ]
  },
  {
   "cell_type": "code",
   "execution_count": 14,
   "metadata": {
    "collapsed": true
   },
   "outputs": [],
   "source": [
    "def cosineSimilarity(string1, string2, idfsDictionary):\n",
    "    w1 = tfidf(string1, idfsDictionary)\n",
    "    w2 = tfidf(string2, idfsDictionary)\n",
    "    return cossim(w1, w2)"
   ]
  },
  {
   "cell_type": "markdown",
   "metadata": {
    "collapsed": true
   },
   "source": [
    "### Rule One - top words in a text"
   ]
  },
  {
   "cell_type": "code",
   "execution_count": 15,
   "metadata": {
    "collapsed": true
   },
   "outputs": [],
   "source": [
    "def showTopWord(link):\n",
    "    tokens = text_token.filter(lambda x: x[2] == link).collect()[0][1]\n",
    "    tokens_weights = TFIDF(tokens, doc_c)\n",
    "    print type(tokens_weights)\n",
    "    tokens_weights_sorted = sorted(tokens_weights, key=tokens_weights.get, reverse=True)\n",
    "    for index in range(0,9):\n",
    "        print tokens_weights_sorted[index], tokens_weights[tokens_weights_sorted[index]]\n",
    "    print tokens_weights_sorted[:14]\n",
    "    return tokens_weights_sorted[:14]"
   ]
  },
  {
   "cell_type": "code",
   "execution_count": 16,
   "metadata": {
    "collapsed": false
   },
   "outputs": [],
   "source": [
    "link = u'http://lovecc6.pixnet.net/blog/post/73513867'\n",
    "#showTopWord(link)"
   ]
  },
  {
   "cell_type": "code",
   "execution_count": 17,
   "metadata": {
    "collapsed": false
   },
   "outputs": [],
   "source": [
    "urls = text_token.map(lambda x : x[2])\n",
    "\n",
    "\n",
    "#top_word_list = text_token.map(lambda x : showTopWord(x[2]))\n",
    "#top_word_list = [showTopWord(i) for i in urls]\n",
    "#top_word_list = urls.map(lambda x: showTopWord(x))\n",
    "#top_word_list"
   ]
  },
  {
   "cell_type": "code",
   "execution_count": 18,
   "metadata": {
    "collapsed": false
   },
   "outputs": [],
   "source": [
    "#top_word_list"
   ]
  },
  {
   "cell_type": "markdown",
   "metadata": {
    "collapsed": false
   },
   "source": [
    "### Rule Two - Query in text"
   ]
  },
  {
   "cell_type": "code",
   "execution_count": 19,
   "metadata": {
    "collapsed": false
   },
   "outputs": [],
   "source": [
    "query_input = [u'蝦球', u'辣味', u'泰式']\n",
    "\n",
    "def check_in(query, text):\n",
    "    count = 0\n",
    "    for q in query:\n",
    "        if q in text:\n",
    "            count += 1\n",
    "    return count\n",
    "\n",
    "def query_points(query):\n",
    "    query_points_table = text_token.map(lambda x : check_in(query, x[1]))\n",
    "    return query_points_table"
   ]
  },
  {
   "cell_type": "code",
   "execution_count": 20,
   "metadata": {
    "collapsed": false
   },
   "outputs": [
    {
     "data": {
      "text/plain": [
       "2228"
      ]
     },
     "execution_count": 20,
     "metadata": {},
     "output_type": "execute_result"
    }
   ],
   "source": [
    "query_pts = query_points(query_input).collect()\n",
    "\n",
    "len(query_pts)"
   ]
  },
  {
   "cell_type": "markdown",
   "metadata": {},
   "source": [
    "### Rule 3 - Term Weights"
   ]
  },
  {
   "cell_type": "code",
   "execution_count": 21,
   "metadata": {
    "collapsed": true
   },
   "outputs": [],
   "source": [
    "def term_weights(tokens):\n",
    "    d = {}\n",
    "    for word in tokens:\n",
    "        if not word in d:\n",
    "            d[word] = 1\n",
    "        else:\n",
    "            d[word] += 1\n",
    "    return d"
   ]
  },
  {
   "cell_type": "code",
   "execution_count": 22,
   "metadata": {
    "collapsed": false
   },
   "outputs": [],
   "source": [
    "def term_points(query, point_dict):\n",
    "    points = 0\n",
    "    for i in query:\n",
    "        if i in point_dict:\n",
    "            points += point_dict[i]\n",
    "                \n",
    "    return points\n",
    "\n",
    "tf_list = text_token.map(lambda x : term_weights(x[1])).collect()"
   ]
  },
  {
   "cell_type": "code",
   "execution_count": 23,
   "metadata": {
    "collapsed": false
   },
   "outputs": [
    {
     "data": {
      "text/plain": [
       "2228"
      ]
     },
     "execution_count": 23,
     "metadata": {},
     "output_type": "execute_result"
    }
   ],
   "source": [
    "term_pts = [term_points(query_input, i) for i in tf_list]\n",
    "len(term_pts)"
   ]
  },
  {
   "cell_type": "markdown",
   "metadata": {},
   "source": [
    "### 計算文章分數"
   ]
  },
  {
   "cell_type": "code",
   "execution_count": 24,
   "metadata": {
    "collapsed": true
   },
   "outputs": [],
   "source": [
    "def doc_points(term_weight_pts, query_pts):\n",
    "#    tw_dict = text_token.map(lambda x: term_weights(x[1])).collect()\n",
    "#    doc_point = text_token.map(lambda x : (((term_points(query_input, tw_dict))*(check_in(query_input, x[1])) , x[2])))\n",
    "    doc_point = [i*j for i,j in zip(term_weight_pts, query_pts)]\n",
    "    \n",
    "    return doc_point"
   ]
  },
  {
   "cell_type": "code",
   "execution_count": 25,
   "metadata": {
    "collapsed": false
   },
   "outputs": [],
   "source": [
    "url_list = text_token.map(lambda x : (x[2]))\n",
    "\n",
    "total_pts = zip(doc_points(term_pts, query_pts) , url_list.collect())"
   ]
  },
  {
   "cell_type": "code",
   "execution_count": 26,
   "metadata": {
    "collapsed": false
   },
   "outputs": [],
   "source": [
    "#print type(total_pts)\n",
    "total_pts_sort = sorted(total_pts, reverse=True)\n",
    "#total_pts_sort"
   ]
  },
  {
   "cell_type": "code",
   "execution_count": 27,
   "metadata": {
    "collapsed": false
   },
   "outputs": [
    {
     "data": {
      "text/plain": [
       "[(60, u'http://changfong.pixnet.net/blog/post/40749658'),\n",
       " (34, u'http://evisko.pixnet.net/blog/post/258052708'),\n",
       " (29, u'http://justnike.pixnet.net/blog/post/61919500'),\n",
       " (28, u'http://wonderfood.pixnet.net/blog/post/198089649'),\n",
       " (28, u'http://lemonadellen.pixnet.net/blog/post/32114431'),\n",
       " (25, u'http://changfong.pixnet.net/blog/post/41828851'),\n",
       " (24,\n",
       "  u'http://sedo888.pixnet.net/blog/post/341765034-%5b%e5%8f%b0%e5%8c%97%5d-%e5%96%9c%e4%be%86%e7%99%bb%e5%a4%a7%e9%a3%af%e5%ba%97-%e2%80%a7-sukhothai%e8%98%87%e5%8f%af%e6%b3%b0%e6%b3%b0%e5%bc%8f%e6%96%99'),\n",
       " (24, u'http://lemonadellen.pixnet.net/blog/post/40637716'),\n",
       " (20, u'http://protozoa.pixnet.net/blog/post/29765279'),\n",
       " (20, u'http://infinite520visa.pixnet.net/blog/post/148834846')]"
      ]
     },
     "execution_count": 27,
     "metadata": {},
     "output_type": "execute_result"
    }
   ],
   "source": [
    "total_pts_sort[:10]"
   ]
  },
  {
   "cell_type": "markdown",
   "metadata": {
    "collapsed": true
   },
   "source": [
    "## 第二部分 - 實作餐廳的 matching"
   ]
  },
  {
   "cell_type": "markdown",
   "metadata": {},
   "source": [
    "### 用函式尋找完全配對，回傳分數"
   ]
  },
  {
   "cell_type": "code",
   "execution_count": 28,
   "metadata": {
    "collapsed": true
   },
   "outputs": [],
   "source": [
    "def exact_match(restaurant, title):\n",
    "    exact_match_flag = 0;\n",
    "    if restaurant in title:\n",
    "        exact_match_pts = 1\n",
    "        return 1\n",
    "    else:\n",
    "        return 0"
   ]
  },
  {
   "cell_type": "markdown",
   "metadata": {},
   "source": [
    "### 將標題斷詞，剔除不需要字元"
   ]
  },
  {
   "cell_type": "code",
   "execution_count": 29,
   "metadata": {
    "collapsed": false
   },
   "outputs": [],
   "source": [
    "def title_checkword(x):\n",
    "    return all((u'\\u4e00' <= c <= u'\\u9fff') or ('A' <= c <= 'Z') or ('a' <= c <= 'z') or (\n",
    "            '0' <= c <= '9')for c in x)\n",
    "\n",
    "def cut_title(title):\n",
    "    import jieba\n",
    "    \n",
    "    r = list()\n",
    "    for term in jieba.cut(title):\n",
    "        if title_checkword(term): r.append(term)\n",
    "    return r"
   ]
  },
  {
   "cell_type": "code",
   "execution_count": 30,
   "metadata": {
    "collapsed": false
   },
   "outputs": [
    {
     "name": "stdout",
     "output_type": "stream",
     "text": [
      "[u'\\u559c\\u4f86', u'\\u767b', u'\\u4e4b', u'\\u5341\\u4e8c', u'\\u5eda', u'All', u'u', u'can', u'eat']\n"
     ]
    }
   ],
   "source": [
    "gcf = df.map(lambda x : (x[11],x[12]))\n",
    "\n",
    "gcf.first() \n",
    "gdf = gcf.map(lambda x : cut_title(x[0]))\n",
    "print gdf.first()\n",
    "#def title_scoring():\n",
    "#print gcf.flatMap(lambda x: x).collect()"
   ]
  },
  {
   "cell_type": "code",
   "execution_count": 31,
   "metadata": {
    "collapsed": false
   },
   "outputs": [
    {
     "name": "stderr",
     "output_type": "stream",
     "text": [
      "Building prefix dict from the default dictionary ...\n",
      "DEBUG:jieba:Building prefix dict from the default dictionary ...\n",
      "Loading model from cache /tmp/jieba.cache\n",
      "DEBUG:jieba:Loading model from cache /tmp/jieba.cache\n",
      "Loading model cost 0.279 seconds.\n",
      "DEBUG:jieba:Loading model cost 0.279 seconds.\n",
      "Prefix dict has been built succesfully.\n",
      "DEBUG:jieba:Prefix dict has been built succesfully.\n"
     ]
    },
    {
     "data": {
      "text/plain": [
       "[u'\\u559c\\u4f86',\n",
       " u'\\u767b',\n",
       " u'\\u4e4b',\n",
       " u'\\u5341\\u4e8c',\n",
       " u'\\u5eda',\n",
       " u'All',\n",
       " u'u',\n",
       " u'can',\n",
       " u'eat']"
      ]
     },
     "execution_count": 31,
     "metadata": {},
     "output_type": "execute_result"
    }
   ],
   "source": [
    "cut_title(gcf.first()[0])"
   ]
  },
  {
   "cell_type": "code",
   "execution_count": 32,
   "metadata": {
    "collapsed": false
   },
   "outputs": [],
   "source": [
    "all_cut_title = gcf.map(lambda x : cut_title(x[0]))"
   ]
  },
  {
   "cell_type": "code",
   "execution_count": 33,
   "metadata": {
    "collapsed": false
   },
   "outputs": [
    {
     "data": {
      "text/plain": [
       "[u'\\u559c\\u4f86',\n",
       " u'\\u767b',\n",
       " u'\\u4e4b',\n",
       " u'\\u5341\\u4e8c',\n",
       " u'\\u5eda',\n",
       " u'All',\n",
       " u'u',\n",
       " u'can',\n",
       " u'eat']"
      ]
     },
     "execution_count": 33,
     "metadata": {},
     "output_type": "execute_result"
    }
   ],
   "source": [
    "all_cut_title.first()"
   ]
  },
  {
   "cell_type": "markdown",
   "metadata": {
    "collapsed": true
   },
   "source": [
    "### 將斷過的詞兩兩相接"
   ]
  },
  {
   "cell_type": "code",
   "execution_count": 34,
   "metadata": {
    "collapsed": false
   },
   "outputs": [],
   "source": [
    "def bio_wordset(words):\n",
    "    try:\n",
    "        biogram_str = map(lambda x, y: x+y, words[:-1], words[1:])\n",
    "        return biogram_str\n",
    "    except:\n",
    "        return []"
   ]
  },
  {
   "cell_type": "code",
   "execution_count": 35,
   "metadata": {
    "collapsed": false
   },
   "outputs": [
    {
     "name": "stdout",
     "output_type": "stream",
     "text": [
      "<type 'list'>\n",
      "[u'\\u559c\\u4f86\\u767b', u'\\u767b\\u4e4b', u'\\u4e4b\\u5341\\u4e8c', u'\\u5341\\u4e8c\\u5eda', u'\\u5edaAll', u'Allu', u'ucan', u'caneat']\n"
     ]
    }
   ],
   "source": [
    "#gcf2 = map(lambda x, y: x[0]+y[0], )\n",
    "strstr = cut_title(gcf.first()[0])\n",
    "print type(strstr)\n",
    "strstrstr = bio_wordset(strstr)\n",
    "print strstrstr"
   ]
  },
  {
   "cell_type": "code",
   "execution_count": 36,
   "metadata": {
    "collapsed": false
   },
   "outputs": [],
   "source": [
    "biogram_title = all_cut_title.map(lambda title: bio_wordset(title))"
   ]
  },
  {
   "cell_type": "code",
   "execution_count": 37,
   "metadata": {
    "collapsed": false
   },
   "outputs": [],
   "source": [
    "import pandas as pd\n",
    "\n",
    "#res_data = sc.textFile('./restaurant.csv').map(lambda line: line.split(',')).map(\n",
    "#    lambda line: line[2]).collect()[1:]\n",
    "\n",
    "res = sc.textFile('./restaurant.csv').map(lambda line: line.split(',')).map(\n",
    "    lambda line: line[2]).map(lambda line: line.split('-')[0]).collect()[1:]\n",
    "\n",
    "res_data = list(set(res))"
   ]
  },
  {
   "cell_type": "code",
   "execution_count": 38,
   "metadata": {
    "collapsed": false
   },
   "outputs": [
    {
     "name": "stdout",
     "output_type": "stream",
     "text": [
      "HOWFUN 好飯食堂 (台北內湖店)\n",
      "NakedFood 裸食私廚\n",
      "HERDOR Tea House\n",
      "凱越越南風味火鍋\n",
      "漁聞樂\n",
      "夏慕尼(台北中山北店)\n",
      "淡水榕堤水灣餐廳\n",
      "參和院 台灣風格飲食 (桃園華泰店)\n",
      "沐 創作 季節料理\n",
      "極野宴燒肉專門店 (大食代)\n",
      "NAPOLI’S PIZZA & COFFE\n",
      "陶板屋 (豐原向陽店)\n",
      "帕莎蒂娜義大利屋\n",
      "寬心園精緻蔬食料理(文心公益店)\n",
      "石頭日式燒肉(漢口總館)\n",
      "陶板屋 (台中大里德芳南店)\n",
      "欣葉小聚今品 (環球店)\n",
      "饗樂 Shabu 精緻鍋品\n",
      "小蒙牛頂級麻辣養生鍋(內湖店)\n",
      "添好運(高雄漢神巨蛋店)\n",
      "Osteria by Angie（竹北店）\n",
      "蝦老爹 The Shrimp Daddy\n",
      "Origines\n",
      "香頌私宅洋樓\n",
      "MVSA Spanish Restaurant & Bar 沐紗西班牙酒莊餐廳\n",
      "品花苑\n",
      "Osteria by angie (光復店)\n",
      "富呷一方 健康料理 (板橋新埔店)\n",
      "水舞饌\n",
      "小蒙牛頂級麻辣養生鍋(家樂福鳳山店)\n",
      "MW 時尚義法料理&酒品(大直店)\n",
      "炭火工廠96 C_Factory96\n",
      "一膳食堂 (微風信義店)\n",
      "西堤牛排 (台北復興南店)\n",
      "西堤牛排 (草屯碧山店)\n",
      "The Green ROOM\n",
      "黑浮咖啡 (高雄楠梓加盟店)\n",
      "FORE restaurant\n",
      "L’Atelier de Patrick 法式派翠克餐廳\n",
      "遠東cafe \n",
      "西堤牛排 (新莊新泰店)\n",
      "Beluga restaurant & bar\n",
      "\"栢金 Birking\n",
      "食蔬茶齋 · 蔬食料理\n",
      "舞蔬弄果(竹北店)\n",
      "Que 原木燒烤餐廳 \n",
      "丸本陣 鮨割烹 日式景觀餐廳\n",
      "汎塔莎西餐廳 Fantasia Western Reataurant\n",
      "原燒 (台中台糖東海店)\n",
      "娘子韓食 (竹北店)\n",
      "這一鍋皇室秘藏鍋物(崇德殿)\n",
      "金鍋盃小火鍋\n",
      "糖朝(高雄大立精品形象店)\n",
      "你回來了 型男食堂居酒屋\n",
      "Oracle Coffee\n",
      "Afternoon Tea ‧ 統一午茶風光 (統一時代台北門市)\n",
      "台北文華東方酒店 文華Café (Café Un Deux Trois)\n",
      "Office By Mastro\n",
      "小蒙牛頂級麻辣養生鍋(天母店)\n",
      "樂軒和牛專門店\n",
      "潮坊港式飲茶(內湖InBase)\n",
      "小蒙牛頂級麻辣養生鍋(中和店)\n",
      "G12地中海咖啡餐酒館\n",
      "50樓Cafe 自助餐廳 \n",
      "囍聚精緻鍋物\n",
      "麵工坊 (市政店)\n",
      "am Daily\n",
      "醜比頭森林鍋物 Kobitos Shabu\n",
      "Le Café 咖啡廳 \n",
      "安多尼歐法式餐廳\n",
      "燒桶子 韓風立燒\n",
      "獨一蒸氣鍋物新竹店\n",
      "BING 繽\n",
      "K\n",
      "Yup Cafe & Bistro\n",
      "PappaRich 金爸爸 (市民店)\n",
      "YEN 紫艷中餐廳\n",
      "西堤牛排 (員林大潤發店)\n",
      "泰集 Thai Bazaar (桃園藝文店)\n",
      "金山客家小館創始店\n",
      "小蒙牛頂級麻辣養生鍋(家樂福嘉義店)\n",
      "圓桌鐵板燒涮涮鍋 (涮涮鍋區)\n",
      "秋紅谷@幸福小水舞\n",
      "遠來廳 \n",
      "大樹先生的家 (潮州店)\n",
      "百食繪五行鍋吃到飽\n",
      "雲軒西餐廳 La Rotisserie \n",
      "夏慕尼(板橋民生店)\n",
      "Alleycat’s Pizza 京站店\n",
      "MQ\n",
      "黑風寨搖滾酒食文化\n",
      "童樂島親子餐廳(高雄總店)\n",
      "小蒙牛頂級麻辣養生鍋(家樂福重慶店)\n",
      "一鷺炭火燒鳥工房 日式串燒居酒屋\n",
      "Alleycat’s Pizza 天母店\n",
      "一心堂燒肉\n",
      "Omaya 春川炒雞 (嘉義新生店)\n",
      "Osteria by Angie \n",
      "頤園北京料理\n",
      "拉撒咪呀 ラサミヤ 鉄板居酒屋\n",
      "Garden Kitchen \n",
      "Oppa & Bar 韓式居酒屋\n",
      "原燒 (羅東興東店)\n",
      "旬採鮨処 (信義店)\n",
      "尚酒吧 牛排龍蝦餐酒館 \n",
      "知多家 CHITAKA \n",
      "鬍子餐酒 Baffi Italian trattoria\n",
      "茶水巴黎西餐廳 \n",
      "原燒 (板橋館前東店)\n",
      "維悅中餐廳\n",
      "原燒 (桃園復興店)\n",
      "阿杜皇家泰式料理 (高雄明誠店)\n",
      "一品蔬菜羊肉專賣店\n",
      "陶板屋 (台北北投光明店)\n",
      "黑浮咖啡 (高雄高美店)\n",
      "Bungy Jump 笨豬跳 Korean BBQ－台中總店\n",
      "陶板屋 (高雄中山店)\n",
      "清潭洞韓式燒烤餐廳\n",
      "夏慕尼(台南公園南店)\n",
      "聚點美式餐廳澄清店\n",
      "饗和民 \n",
      "ita 義塔 (台北微風南京店)\n",
      "波諾義大利料理 Buono Bella\n",
      "JB極品居酒屋\n",
      "王朝中餐廳 \n",
      "Osteria by Angie (大直店)\n",
      "HELLO KITTY 呷茶 Chat Day\n",
      "加班 平價串物 · 公事包料理\n",
      "極野宴燒肉專門店 (尚順頭份旗艦店)\n",
      "西堤牛排 (台中文心店)\n",
      "大樹先生台中崇德店\n",
      "SUKHOTHAI \n",
      "王品牛排(新竹北大店)\n",
      "Omakase 任信\n",
      "Silk Road Feast 絲路宴餐廳\n",
      "金荷MINI精緻涮涮鍋\n",
      "雲火日式燒肉\n",
      "Orchard Caf’e西餐廳\n",
      "御盤de食堂 (南京店)\n",
      "台北文華東方酒店 Bencotto 義大利餐廳\n",
      "歐舒丹 L'OCCITANE CAFÉ（台北光復店）\n",
      "這一鍋皇室祕藏鍋物(中美殿)\n",
      "居食屋「和民」桃園台茂店\n",
      "MayBE Music Bar\n",
      "藝奇新日本料理 (永和中山店)\n",
      "三角三韓國道地烤肉 (西門店)\n",
      "陶板屋 (台北南京東店)\n",
      "The Chapter 咖啡廳 誠品行旅\n",
      "秋豆溢 日式鍋物專門\n",
      "Cozzi KITCHEN\n",
      "西堤牛排 (台中中科店)\n",
      "陶板屋 (新店北新店)\n",
      "EASYHOUSE CAFÉ (高雄明誠店)\n",
      "匠饗Fusion\n",
      "帕莎蒂娜臺南市長官邸\n",
      "西堤牛排 (台北南港店)\n",
      "Fatty's義式創意餐廳(義式料理)\n",
      "O'steak 歐牛排法餐廳\n",
      "共同市場 \n",
      "西堤牛排 (龍潭中正店)\n",
      "三角三韓國道地烤肉 (板橋店)\n",
      "旬採鮨処 (中山店)\n",
      "Felicitas Pâtissérie\n",
      "小蒙牛頂級麻辣養生鍋(新店店)\n",
      "MU TABLE 自助百匯 \n",
      "漢來海港餐廳\n",
      "Aqua水相餐廳 (惠中店)\n",
      "黑浮咖啡 (高雄巨蛋店)\n",
      "點水樓 \n",
      "彩日本料理\n",
      "小蒙牛頂級麻辣養生鍋(尚順頭份店)\n",
      "映墨日式懷石料理\n",
      "王品牛排 (高雄博愛店)\n",
      "清新溫泉飯店\n",
      "MissGreen\n",
      "御盤de食堂 (松高店)\n",
      "圓山牛排館 \n",
      "胖東西廚房 Osteria by Vincent\n",
      "Tutto Fresco 翡冷翠義式餐廳\n",
      "Outing Café & Bar\n",
      "花園日本料理 Hanazono \n",
      "忻殿堂鍋物專賣店\n",
      "第一夫人咖啡館\n",
      "這一鍋皇室祕藏鍋物(朝富殿)\n",
      "鶿克米tsukumi\n",
      "WOK 臥風閣\n",
      "燒肉同話\n",
      "獨一蒸氣鍋物中壢店\n",
      "小蒙牛頂級麻辣養生鍋(家樂福斗六店)\n",
      "悅の鍋\n",
      "Imp Cafe\n",
      "SONOMA Grill Steak & Teppanyaki\n",
      "帕莎蒂娜法式餐廳\n",
      "DUO Taipei\n",
      "比薩屋 \n",
      "愛新覺羅 原味‧鮮採嚴煮\n",
      "華王大飯店\n",
      "添好運 (台中大遠百店)\n",
      "Alleycat’s Pizza 華山店\n",
      "田季發爺燒肉\n",
      "小蒙牛頂級麻辣養生鍋(新竹晶品城)\n",
      "西堤牛排 (台北重慶南店)\n",
      "夏慕尼(台北南昌店)\n",
      "敘日全日餐廳\n",
      "留園上海料理\n",
      "西堤牛排 (彰化四維店)\n",
      "這一鍋皇室祕藏鍋物(中山北殿)\n",
      "石頭日式燒肉(鳳山五甲館)\n",
      "犇 鐵板燒\n",
      "二代目 \n",
      "和食EN 日本料理 (復興店)\n",
      "王品牛排(高雄中正店)\n",
      "假日飯店 \n",
      "小蒙牛頂級麻辣養生鍋(板橋店)\n",
      "黑浮咖啡 (高雄一心店)\n",
      "極野宴燒肉專門店 (特力南崁旗艦店)\n",
      "原燒 (高雄中山店)\n",
      "Maple Tree House 楓樹 韓國烤肉\n",
      "藝奇新日本料理 (板橋麗寶店)\n",
      "好漢莊甕子雞\n",
      "異料理 \n",
      "丹耶澧義大利餐廳\n",
      "西堤牛排 (台北瑞光店)\n",
      "明水然 鐵板燒\n",
      "彩匯 \n",
      "西堤牛排 (高雄家樂福成功店)\n",
      "安東廳 \n",
      "The Square品坊西餐廳\n",
      "桃山 \n",
      "西堤牛排 (鳳山家樂福店)\n",
      "娘子韓食 \n",
      "Dazzling Cafe (敦化店)\n",
      "西雅圖極品嚴焙咖啡館\n",
      "燒肉風間 KAZAMA\n",
      "潮坊港式飲茶 \n",
      "小蒙牛頂級麻辣養生鍋(台南中正店)\n",
      "寬心園精緻蔬食料理(台中大業店)\n",
      "山鯨燒肉\n",
      "嘿鬥日式定食（勤美店）\n",
      "Brick Works 樂高積木主題餐廳 (巨蛋店)\n",
      "Waiting Bistro\n",
      "酒食坊 Pān\n",
      "西堤牛排 (台北南京東店)\n",
      "燈燈庵日式料理餐廳\n",
      "陶板屋 (高雄裕成店)\n",
      "王品牛排(中壢延平店)\n",
      "西堤牛排 (新店民權店)\n",
      "赤坂屋日式碳烤燒肉店\n",
      "小蒙牛頂級麻辣養生鍋(桃園中美店)\n",
      "豐 FOOD．自主百匯\n",
      "橄欖小館法國料理 Le Bistro de L'olivier\n",
      "韓肉舖\n",
      "西堤牛排 (台中家樂福文心店)\n",
      "雲天自助餐廳\n",
      "西堤牛排 (屏東自由店)\n",
      "凱恩斯岩燒餐廳大安店\n",
      "JK STUDIO 新義法料理\n",
      "寬心園精緻蔬食料理(台北天母店)\n",
      "吃遍天下自助餐廳\n",
      "Texas Roadhouse 德州鮮切牛排 \n",
      "銅花精緻涮涮鍋\n",
      "彩虹座\n",
      "陶板屋 (台北復興北店)\n",
      "櫻桃小丸子主題餐廳\n",
      "大戶屋 (竹北光明店)\n",
      "小蒙牛頂級麻辣養生鍋(台中中港店)\n",
      "格林屋親子咖啡館 Greenwood Taipei\n",
      "黑熊愛跳舞\n",
      "MOD Sequel 僖閣\n",
      "Les OMBRES d’Ambre光影新歐陸料理\n",
      "織壽司\n",
      "奇麗灣珍奶文化館\n",
      "西班牙小酒館\n",
      "藏薪食譜\n",
      "NikuNiku肉肉燒肉(五權西二店)\n",
      "迎月庭日式料理 \n",
      "ita 義塔 (台北微風松高店)\n",
      "吽home炭火燒肉\n",
      "百家樂精緻鐵板燒\n",
      "加部屋（南崁店）\n",
      "麵屋武藏（虎嘯店）\n",
      "咖啡廳\n",
      "FIFI茶酒沙龍\n",
      "Goodies Cuisine 好米亞\n",
      "創義麵 Creative Pasta (景美店)\n",
      "欣葉呷哺呷哺\n",
      "教父牛排 Danny's Steakhouse\n",
      "高雄福華大飯店 \n",
      "富。四季割烹\n",
      "西堤牛排 (斗六家樂福店)\n",
      "必勝客歡樂吧 (南港店)\n",
      "NiNi尼尼義大利庭園餐廳 \n",
      "茶苑\n",
      "冶春茶社\n",
      "武士山居酒屋\n",
      "小蒙牛頂級麻辣養生鍋(家樂福楠梓店)\n",
      "野海壽司 \n",
      "吃吧餐廳\n",
      "LivingOne 篤行館 Save\n",
      "豐舍\n",
      "炭火串燒Moibon\n",
      "潮粵坊 \n",
      "Bungy Jump 笨豬跳 Korean BBQ \n",
      "藝奇新日本料理 (桃園南華店)\n",
      "可利亞石頭火鍋 Koriya\n",
      "DA ANTONIO By 隨意鳥地方\n",
      "費利榭 Cucina Felice\n",
      "西堤牛排 (安平家樂福店)\n",
      "小蒙牛頂級麻辣養生鍋(家樂福蘆洲店)\n",
      "泰集 Thai Bazaar (微風信義店)\n",
      "Moi cafe\n",
      "帕莎蒂娜駁二倉庫餐廳\n",
      "西堤牛排 (桃園南華店)\n",
      "Lacuz泰式餐廳(公館店)\n",
      "菜豚屋\n",
      "這一鍋皇室祕藏鍋物(吉林殿)\n",
      "易鼎活蝦餐廳 (台中店)\n",
      "八色烤肉 \n",
      "創義麵 Creative Pasta (萬芳店)\n",
      "VOLKS沃克牛排 (台北復興店)\n",
      "Green House Trattoria 綠房餐廳\n",
      "Yellow Lemon\n",
      "Bunker 1942\n",
      "凱菲屋\n",
      "寬心園精緻蔬食料理(台北安和店)\n",
      "Cheers\n",
      "西堤牛排 (花蓮國聯店)\n",
      "欣葉101食藝軒\n",
      "山山來茶 (民生店)\n",
      "次郎本格日本料理\n",
      "夢工場親子主題餐廳\n",
      "醉月樓 (38F) – 香格里拉台南遠東國際大飯店\n",
      "TRASTEVERE義式餐廳\n",
      "加部屋（勤美店）\n",
      "Mastro Cafe\n",
      "Texas Roadhouse 德州鮮切牛排 (微風松高店)\n",
      "有喜屋日式煎餃\n",
      "陶板屋 (台北光復南店)\n",
      "京兆軒粵式餐廳 \n",
      "OM Taipei\n",
      "MANGO TREE 芒果樹泰式料理\n",
      "星晟棧渡假飯店\n",
      "糖朝(台北統領旗艦店)\n",
      "芙悅軒 FLAVORS 湘粵料理＆港式飲茶 －麗尊酒店\n",
      "天尊日本料理\n",
      "杏桃鬆餅屋忠孝216巷店\n",
      "江雁塘新時尚鐵板燒\n",
      "西堤牛排 (高雄中山店)\n",
      "Young Lion 親子餐廳\n",
      "傑克兄弟牛排館(竹北店)\n",
      "陶板屋 (台南勝利店)\n",
      "The Zone樂融餐廳/樂融The Zone酒吧 \n",
      "頂餐廳 \n",
      "典藏33觀景餐廳\n",
      "東方饌黔天下貴州主題餐廳(迪化店)\n",
      "Bungy Jump 笨豬跳  Korean BBQ  \n",
      "九天食上創意食坊\n",
      "伊万里日本料理\n",
      "西堤牛排 (淡水中正店)\n",
      "夏慕尼(中壢延平店)\n",
      "藝奇新日本料理 (高雄夢時代店)\n",
      "大樹站 (安和店)\n",
      "醜比頭的秘密花園\n",
      "朕店・麻辣鍋\n",
      "西堤牛排 (楊梅中山北店)\n",
      "西堤牛排 (台南民族店)\n",
      "犇 (微風信義館)\n",
      "居食屋「和民」台中遠百店\n",
      "台北47名人宴(Taipei47)\n",
      "藝奇新日本料理 (台北衡陽店)\n",
      "艾可柏菲自助料理 \n",
      "福園 \n",
      "Range Bistrokaya\n",
      "上澄鍋物\n",
      "陶板屋 (新竹北大店)\n",
      "新沙洞韓國烤肉\n",
      "野柳泊逸渡假酒店 漁人廚房 Fisherman’s Kitchen\n",
      "添好運 (板橋大遠百店)\n",
      "小蒙牛頂級麻辣養生鍋(新竹店)\n",
      "桂香私宅歐陸料理\n",
      "陶板屋 (台中台灣大道店)\n",
      "樂軒究極和牛燒肉\n",
      "Rilakkuma Café 拉拉熊咖啡廳 (Taichung 台中店)\n",
      "熊燒Bar創意餐酒館\n",
      "茶苑 \n",
      "藝奇新日本料理 (台北中山北店)\n",
      "夏慕尼(高雄五福店)\n",
      "寶艾西餐廳\n",
      "原燒 (台北京華城店)\n",
      "Botega del Vin 義大利餐廳\n",
      "童樂島親子餐廳(台南店)\n",
      "藝奇新日本料理 (台中福雅店)\n",
      "陶板屋 (竹北光明店)\n",
      "L'origine by la Credenza 歐傑洛義式餐廳\n",
      "夏慕尼(台北內湖店)\n",
      "1949 創料理\n",
      "肉魂 鑄鐵料理 de Meaty Spirit\n",
      "原燒 (台南永華店)\n",
      "這一鍋皇室秘藏鍋物(信義殿)\n",
      "陶板屋 (樹林中山店)\n",
      "57 食堂酒場\n",
      "小蒙牛頂級麻辣養生鍋(基隆店)\n",
      "HELLO KITTY 火鍋二號店\n",
      "Trine & Zen (松高店)\n",
      "The Lounge 大廳酒吧\n",
      "洛神賦麻辣極品鴛鴦\n",
      "EPL Steakhouse & Lounge\n",
      "原燒 (三重龍門店)\n",
      "添好運 (桃園台茂店)\n",
      "棧 F\n",
      "金鳳廳 \n",
      "阿杜皇家泰式料理 (台中沙鹿店)\n",
      "極野宴燒肉專門店 (夢時代旗艦店)\n",
      "王品牛排(台中五權店)\n",
      "居食屋「和民」高雄漢神巨蛋店\n",
      "櫻の田野養生野菜鍋\n",
      "這一鍋皇室秘藏鍋物(光明殿)\n",
      "山里日本料理 \n",
      "真月新日本料理\n",
      "歐舒丹 L'OCCITANE CAFÉ（台南南紡店）\n",
      "原燒 (中壢元化店)\n",
      "原燒 (桃園台茂店)\n",
      "打啵G (台中一中店)\n",
      "米香 \n",
      "三隻貓頭鷹 3owls Cafe（和平店）\n",
      "西堤牛排 (台北羅斯福店)\n",
      "饕鍋 \n",
      "巴賽麗廳 \n",
      "LAFON 樂逢\n",
      "月見溪創意餐廳\n",
      "孔雀歐亞料理餐酒館 Peacock Bistro\n",
      "長園中餐廳\n",
      "VAVA VOOM\n",
      "NikuNiku肉肉燒肉(朝馬店)\n",
      "新都里 懷石料理\n",
      "Le Partage\n",
      "Grace Restaurant\n",
      "EASYHOUSE CAFÉ (台北板橋店)\n",
      "元鼎府火鍋 \n",
      "布娜飛比利時啤酒餐廳BravoBeer (台中公益店)\n",
      "隨意吧Sui Business Lounge\n",
      "陶板屋 (中和中山店)\n",
      "ZIGA ZAGA\n",
      "小蒙牛頂級麻辣養生鍋(桃園店)\n",
      "CHUCKLAND親子餐廳\n",
      "大晴天親子餐廳\n",
      "小蒙牛頂級麻辣養生鍋(台中店)\n",
      "陶板屋 (台中河南店)\n",
      "PURE cuisine 純‧歐法料理餐廳\n",
      "加楓一店\n",
      "BarSip 餐酒\n",
      "鳥窩窩私房菜 (內湖店)\n",
      "西堤牛排 (家樂福楠梓店)\n",
      "CHECKERS\n",
      "新沙洞韓國涮涮鍋\n",
      "Brick Works 樂高積木主題餐廳 (花博店)\n",
      "陶板屋 (三重正義南店)\n",
      "陶板屋 (彰化東民店)\n",
      "印度皇宮 (桃園南崁店)\n",
      "雲之南麗江斑魚火鍋\n",
      "The Diner 樂子 \n",
      "孫家廚坊 (義大醫院店)\n",
      "鳥窩窩私房菜 (頭份尚順店)\n",
      "采悅軒中餐廳 \n",
      "易鼎活蝦餐廳 (桃園店)\n",
      "Nep. Lounge Bar\n",
      "添好運 (HOYII 北車站店)\n",
      "王品牛排(台北光復南店)\n",
      "PappaRich 金爸爸 (南港店)\n",
      "邑之棧 海鮮鍋物 壽司\n",
      "兔卡蕾餐酒館\n",
      "和民之家站前店\n",
      "Diamond Tony's 101 隨意鳥地方高空觀景餐廳\n",
      "鳥窩窩私房菜 (南京店)\n",
      "西堤牛排 (板橋中山店)\n",
      "Mist 迷霧和牛燒肉\n",
      "水舞饌 (大直店)\n",
      "藝奇新日本料理 (台中大墩店)\n",
      "水剌韓式餐廳 Surah Korea Cuisine (大直總店)\n",
      "東方軒\n",
      "Omaya 春川炒雞(台南永華店)\n",
      "京華城櫻桃谷\n",
      "璞 SOUP\n",
      "The Diner 樂子\n",
      "歐麗蛋糕坊\n",
      "犇 和牛館\n",
      "TOSCANA 義大利餐廳 \n",
      "寬心園精緻蔬食料理(台北板橋店)\n",
      "夢樂小廚\n",
      "欣葉小聚今品 (南港店)\n",
      "鈺善閣‧素‧養生懷石(台中旗艦店)\n",
      "樂廚自助餐廳 Delight Restaurant\n",
      "有沒有咖啡 Double H Café\n",
      "PS TAPAS 西班牙餐酒館(光復店)\n",
      "盛宴自助餐廳 \n",
      "Fatty's義式創意餐廳(鐵板燒)\n",
      "易鼎活蝦餐廳 (永和店)\n",
      "新韓館烤肉居酒屋\n",
      "添好運台北信義店\n",
      "公公小館\n",
      "鳥丈爐端燒\n",
      "和食EN 日本料理 (板橋店)\n",
      "布娜飛比利時啤酒餐廳BravoBeer (台北市民店)\n",
      "台南溫體牛(南屯旗艦店)\n",
      "朴山傳統韓國料理\n",
      "Imma Israeli Restaurant\n",
      "九寨十鍋正宗四川麻辣鍋\n",
      "夏慕尼(台南永華店)\n",
      "阿杜皇家泰式料理 (員林旗艦店)\n",
      "寬心園精緻蔬食料理(台南永華店)\n",
      "Bianco Taipei 義大利食材餐廳\n",
      "KIKI \n",
      "食譜自助百匯 \n",
      "寒舍樂廚\n",
      "居食屋「和民」中和環球店\n",
      "幸福讚精品飯店鐵板燒\n",
      "Closet Restaurant & Bar\n",
      "ORO 咖啡(凱旋店)\n",
      "阿杜皇家泰式料理 (高雄和平店)\n",
      "大戶屋 (中壢中原店)\n",
      "八條老宅麻辣鍋\n",
      "鳥窩窩私房菜 (高雄左營店)\n",
      "廣香龍華樓餐廳\n",
      "水月草堂\n",
      "極野宴燒肉專門店 (誠品板橋旗艦店)\n",
      "Elfin Restaurant & lounge 餐酒館\n",
      "陸地海鮮燒烤\n",
      "青森鍋物\n",
      "黑浮咖啡 (台南永華店)\n",
      "DR. INK\n",
      "京炙鐵板燒\n",
      "Trattoria del CHA CHA\n",
      "Greedy Bistronomy Cafe\n",
      "菜豚屋 (八德店)\n",
      "好食多涮涮屋\n",
      "GMT \n",
      "LivingOne 明達館\n",
      "夏慕尼(竹北光明店)\n",
      "寬心園精緻蔬食料理(高雄愛河店)\n",
      "黑浮咖啡 (台中公益店)\n",
      "赤坂屋 日式碳烤\n",
      "小蒙牛頂級麻辣養生鍋(家樂福苗栗店)\n",
      "Lawry's 勞瑞斯牛肋排餐廳\n",
      "AN58 西班牙創意料理 (承德店)\n",
      "黑浮咖啡 (屏東東港加盟店)\n",
      "歐風館 \n",
      "轉角餐廳 Corner Steak House\n",
      "三花日式料理\n",
      "創義麵 Creative Pasta (信義旗艦店)\n",
      "台北寒舍艾美酒店 \n",
      "三角三韓國道地烤肉 (延吉店)\n",
      "京元蔬食創意料理\n",
      "TOP自助餐 \n",
      "幸福丸雄日式燒肉 (關新店)\n",
      "Elite Cafe \n",
      "Machi Doggie Coffee\n",
      "ita 義塔 (台北重慶南店)\n",
      "大廳茶軒 (1F) – 香格里拉台南遠東國際大飯店\n",
      "Cuisine de Mars 火星小廚\n",
      "BLVD Taipei\n",
      "極野宴燒肉專門店 (台北sogo旗艦店)\n",
      "陶板屋 (基隆信一店)\n",
      "這一鍋皇室秘藏鍋物(板橋府中殿)\n",
      "Zooie 魔法城堡主題餐廳\n",
      "陶板屋 (屏東太平洋店)\n",
      "喀佈貍大眾和風串燒居酒洋食堂\n",
      "Unique Pasta 用心體會義大利麵\n",
      "藝奇新日本料理 (竹北光明店)\n",
      "紅花鐵板燒\n",
      "ibuki by TAKAGI KAZUO 日本料理 \n",
      "Cozzi THE Lounge \n",
      "陶板屋(台北重慶南店)\n",
      "西堤牛排 (高雄富國店)\n",
      "傑克兄弟牛排館(高雄愛河店)\n",
      "二木 酒・料理\n",
      "3 Cafe Studio\n",
      "Soluna\n",
      "鈺善閣•素•養生懷石(高雄店)\n",
      "Cocoon 池畔酒吧 \n",
      "欣葉日本料理 (桃園中茂店)\n",
      "立德 Cafe83 餐廳(國父紀念館)\n",
      "遠東Café (10F) – 香格里拉台南遠東國際大飯店\n",
      "地中海牛排館\n",
      "三隻貓頭鷹 3owls Cafe（景安店）\n",
      "北緯二十五 \n",
      "UNCLES 韓國魷魚大叔\n",
      "巴黎廳1930 \n",
      "小蒙牛頂級麻辣養生鍋(家樂福仁德店)\n",
      "Gudetama Chef\n",
      "姊紋 Given Cafe House\n",
      "TKK BUFFET 頂呱呱自助吧\n",
      "Gramercy Cafe Bistro 感恩小館永康店\n",
      "王品牛排(台中文心店)\n",
      "Senn 先酒肴\n",
      "花酒藏 Aplus Dining Sake Bar\n",
      "In Between\n",
      "選牛排\n",
      "馬可波羅餐廳 \n",
      "VOLKS沃克牛排 (台中朝富店)\n",
      "粵亮廣式料理\n",
      "JAPOLI 義大利餐酒館\n",
      "戲台酒館\n",
      "Monsieur L Restaurant \n",
      "小蒙牛頂級麻辣養生鍋(站前店)\n",
      "王品牛排(台北中山北店)\n",
      "桃花林 \n",
      "右京棧大吟釀麻辣鍋\n",
      "陶板屋 (苗栗中山店)\n",
      "BeApe法國傳統餐酒館\n",
      "La Vida Loca 瘋狂人生\n",
      "HONEY PIG\n",
      "明水然鐵板燒 \n",
      "陶板屋 (台北板橋文化店)\n",
      "居食屋「和民」宜蘭店\n",
      "非煮不可精緻鍋物\n",
      "少帥禪園\n",
      "小蒙牛頂級麻辣養生鍋(家樂福文心店)\n",
      "黑浮咖啡 (高雄文山店)\n",
      "一膳食堂 (台中市政店)\n",
      "WINE\n",
      "Fatty's義式創意餐廳\n",
      "原燒新竹sogo站前店\n",
      "一膳食堂 (台中健行店)\n",
      "藝奇新日本料理 (中壢中山店)\n",
      "URBN Culture\n",
      "王品牛排 (台北羅斯福店)\n",
      "欣葉日本料理 (館前店)\n",
      "Coffee Please By Mastro\n",
      "富錦街 No.108\n",
      "Halfway There \n",
      "光琳割烹日本料理\n",
      "Zucchini 節瓜小館\n",
      "CRAFTHOLIC CAFÉ 宇宙人主題餐廳\n",
      "西堤牛排 (基隆信一店)\n",
      "inn Café 成都店\n",
      "冠品鐵板燒\n",
      "台南溫體牛公益旗艦店\n",
      "花園大道 Park Avenue \n",
      "Spot Taipei\n",
      "四兩千金活蝦之家\n",
      "i River 愛河牛排海鮮自助餐廳 (原高雄國賓 Market Cafe)\n",
      "深坑假日飯店 \n",
      "美福乾式熟成牛排館 Fresh & Aged\n",
      "Good Luck !! 好運餐廳\n",
      "SONOMA Global Steak House\n",
      "菜豚屋 (信義店)\n",
      "香港私宅打邊爐\n",
      "居食屋「和民」台中金典店\n",
      "岩手日式炭火燒肉\n",
      "K.C. Cafè\n",
      "Trine & Zen (信義店)\n",
      "易鼎活蝦餐廳 (大里店)\n",
      "Bistro88 義法餐酒館 \n",
      "王品牛排(台南中華東店)\n",
      "市太郎燒肉市場\n",
      "TF 想食廚房\n",
      "爸爸私廚 Le Père 輕食\n",
      "星辰牛排\n",
      "雲錦中餐廳\n",
      "驢子餐廳 L'IDIOT RESTAURANT 驢子レストラン\n",
      "西堤牛排 (新營家樂福店)\n",
      "釜山珍妮佛(漢口店)\n",
      "祇園日本料理\n",
      "夠夠肉\n",
      "藝奇新日本料理 (嘉義耐斯松屋店)\n",
      "Danny's WhatsGrill\n",
      "好處 Have A Nice Day\n",
      "西堤牛排 (金典綠園道店)\n",
      "陶板屋 (南投家樂福店)\n",
      "王品牛排(板橋縣民大道店)\n",
      "原燒 (竹北光明店)\n",
      "潮坊港式飲茶(微風南京店) \n",
      "艾克猴 The Alcohol Bar\n",
      "西堤牛排 (中和板南店)\n",
      "Art\n",
      "AN58 西班牙創意料理 (民權店)\n",
      "文岩文 岩燒蜀辣鴛鴦鍋 (板橋店)\n",
      "太和殿鴛鴦麻辣火鍋\n",
      "紅巢燒肉工房\n",
      "La LUPA Classic 經典母狼\n",
      "OPA Greek Taverna 歐帕希臘小館 (敦化店)\n",
      "大戶屋 (忠孝復興店)\n",
      "Toasteria Café (敦南店)\n",
      "陶板屋 (中壢中山店)\n",
      "Churchill Lounge Bar 邱吉爾鋼琴雪茄酒吧\n",
      "一東方精緻料理餐廳\n",
      "法月當代法式料理\n",
      "Alleycat’s Pizza 誠品新板店\n",
      "Antico Forno 老烤箱義式披薩餐酒\n",
      "哇啦哇啦 日式食堂\n",
      "La Farfalla義式餐廳\n",
      "菜豚屋 (林森店)\n",
      "原燒 (嘉義興雅店)\n",
      "原燒 (新店民權店)\n",
      "居食屋「和民」高雄左營環球店\n",
      "Bigtom美國冰淇淋咖啡館 (國館翠湖店)\n",
      "樂軒日式鍋物料亭\n",
      "小蒙牛頂級麻辣養生鍋(家樂福台南店)\n",
      "加楓二店\n",
      "小蒙牛頂級麻辣養生鍋(高雄店)\n",
      "小蒙牛頂級麻辣養生鍋(中壢店)\n",
      "天荷廳 | 山嵐廳 \n",
      "極野宴燒肉專門店 (遠雄購物中心汐止旗艦店)\n",
      "寬心園精緻蔬食料理(新竹竹北店)\n",
      "潮坊港式飲茶(永福店)\n",
      "王品牛排(台北南京東店)\n",
      "娘子韓食 (台中公益店)\n",
      "Rosmarino\n",
      "秋豆溢 日式鍋物專門 \n",
      "大宅門乾鍋鴨頭 \n",
      "碧潭水灣餐廳\n",
      "Playhouse 家傢酒 (光復店)\n",
      "Bungy Jump 笨豬跳  Korean BBQ \n",
      "MOD Public Bar\n",
      "The Prime\n",
      "小熊學校快樂廚房 「The Bears' School Kitchen」\n",
      "西堤牛排 (仁德中山店)\n",
      "咖哩娘\n",
      "藝奇新日本料理 (仁德中山店)\n",
      "Playhouse 家傢酒 (大直店)\n",
      "米蘭精緻鐵板燒\n",
      "麗緻巴賽麗 \n",
      "咖啡弄 \n",
      "西堤牛排 (頭份尚順店)\n",
      "印月創意東方宴\n",
      "西堤牛排 (新竹中正店)\n",
      "欣葉日本料理 (健康店)\n",
      "邀月亭鐵板料理 \n",
      "義燒肉\n",
      "覓奇頂級料理美食餐廳 Michelin House Restaurant\n",
      "Asia 49亞洲料理及酒廊 \n",
      "陶板屋 (台中崇德店)\n",
      "成吉思汗蒙古烤肉餐廳\n",
      "陶板屋 (嘉義林森西店)\n",
      "原燒 (北投中和店)\n",
      "香米泰國料理 (光復店)\n",
      "哇靠炭火牛排漢堡 plus (廟口店)\n",
      "Bambi Bambi Brunch斑比咖啡\n",
      "日燒二代王樣 (二代草衙)\n",
      "TK Seafood & Steak\n",
      "夏慕尼(桃園中山東店)\n",
      "槿韓食堂 \n",
      "麻辣壹號店\n",
      "原燒 (林口長庚店)\n",
      "九華樓 CHIOU HWA 九華楼 \n",
      "石頭日式燒肉(左營館)\n",
      "新竹喜來登大飯店\n",
      "香米泰國料理\n",
      "小蒙牛頂級麻辣養生鍋(公館店)\n",
      "六國餐廳 \n",
      "打狗霸鍋物 \n",
      "BaLi水岸四季景觀餐廳\n",
      "錦水 TAIPEI\n",
      "ORO 咖啡(竹溪店)\n",
      "柳隅茶舍\n",
      "西堤牛排 (三峽學成店)\n",
      "陶板屋 (台南忠義店)\n",
      "Meet up cafe\n",
      "C25 Plus\n",
      "小紐約披薩 Little New York Pizzeria\n",
      "the kitchen table 西餐廳\n",
      "CornerIn\n",
      "原燒 (中和景平店)\n",
      "泰集 Thai Bazaar (大安店)\n",
      "陶板屋 (桃園三民店)\n",
      "陶板屋 (高雄夢時代店)\n",
      "樂天皇朝\n",
      "宮都拉義式餐廳 La gondola\n",
      "Orchid Restaurant 蘭\n",
      "二口串酒\n",
      "黑浮咖啡 (台南萬昌店)\n",
      "品東西自助百匯 \n",
      "BP Restaurant & Lounge\n",
      "晴山 \n",
      "王品牛排 (桃園同德店)\n",
      "十二廚自助餐廳 \n",
      "西堤牛排 (蘆洲集賢店)\n",
      "居食屋「和民」西門店\n",
      "夏慕尼(台中大隆店)\n",
      "Cafe Ballet 芭蕾咖啡館\n",
      "秀廚自助餐 \n",
      "HELLO KITTY Shabu\n",
      "藝奇新日本料理 (台北敦化北店)\n",
      "The Roof\n",
      "URBAN331\n",
      "星饗道國際自助餐\n",
      "川郎活蟹海鮮料理\n",
      "GUSTOSO 義大利餐廳\n",
      "SOUPSTAR \n",
      "圓桌鐵板燒涮涮鍋 (鐵板燒區)\n",
      "印度皇宮 (台北忠孝店)\n",
      "Bocca di Royal 波卡義式私房料理\n",
      "食下有約 想法廚房\n",
      "欣葉日本料理 (中山店)\n",
      "夏慕尼(台中文心店)\n",
      "Jamie's Italian Taiwan\n",
      "Pinknic野餐吧 (松菸店)\n",
      "鼎園中餐廳Tripod Garden\n",
      "樂埔町 (一號糧倉店)\n",
      "ONE PIECE 台灣航海王餐廳\n",
      "麵工坊 (七張店)\n",
      "好市集手作料理\n",
      "西堤牛排 (嘉義文化店)\n",
      "甘簞行瓦 x Mvsa 西班牙酒莊餐廳\n",
      "原燒 (新莊中正店)\n",
      "金品茶語 King Ping Chayu\n",
      "台北怡亨酒店 Eclat Lounge\n",
      "PS TAPAS 西班牙餐酒館(安和店)\n",
      "陶板屋 (台北敦化南店)\n",
      "天香樓 \n",
      "北芳園專業精緻牛肉麵\n",
      "鈺善閣•素•養生懷石(台北店)\n",
      "西堤牛排 (宜蘭新月店)\n",
      "納美花園\n",
      "JIIA烘焙餐館\n",
      "原燒 (台中市政北店)\n",
      "瑞彼特早午餐館\n",
      "櫻兔燒肉日本料理\n",
      "KGB 紐西蘭風味漢堡\n",
      "飲酒廊 Drink Corridor\n",
      "典藏駁二餐廳\n",
      "英迪格酒店 Wok on the Park\n",
      "香茅廚泰式餐廳 Chef Lemongrass Thai Bistro\n",
      "陶板屋 (八德大和店)\n",
      "原燒 (員林中正店)\n",
      "PRIME ONE 牛排館 \n",
      "糕糕在尚 Korea Deukboggi (復興店)\n",
      "Danny & Company Bistro(大直店)\n",
      "文岩文  岩燒蜀辣鴛鴦鍋 (蘆洲店)\n",
      "Bistro There\n",
      "小蒙牛頂級麻辣養生鍋(新莊店)\n",
      "夏慕尼(台北光復北店)\n",
      "Fatty's義式創意餐廳(日式火鍋)\n",
      "湯屋 \n",
      "這一鍋皇室秘藏鍋物(大興西殿)\n",
      "Rilakkuma Café 拉拉熊咖啡廳 (Taipei 台北店)\n",
      "漂亮廣式海鮮餐廳\n",
      "香聚鍋\n",
      "西堤牛排 (中壢中山店)\n",
      "石頭日式燒烤(永康館)\n"
     ]
    }
   ],
   "source": [
    "#for i in res_data:\n",
    "#    print i"
   ]
  },
  {
   "cell_type": "code",
   "execution_count": 39,
   "metadata": {
    "collapsed": false
   },
   "outputs": [],
   "source": [
    "cut_name = [cut_title(name) for name in res_data]"
   ]
  },
  {
   "cell_type": "code",
   "execution_count": 40,
   "metadata": {
    "collapsed": false
   },
   "outputs": [],
   "source": [
    "biogram_name =  [bio_wordset(cutted) for cutted in cut_name]"
   ]
  },
  {
   "cell_type": "markdown",
   "metadata": {},
   "source": [
    "### 整理出長度大於2的詞"
   ]
  },
  {
   "cell_type": "code",
   "execution_count": 41,
   "metadata": {
    "collapsed": true
   },
   "outputs": [],
   "source": [
    "def creat_long(short_str):\n",
    "    result = [p for p in short_str if (len(p) > 1)]\n",
    "    return result"
   ]
  },
  {
   "cell_type": "code",
   "execution_count": 42,
   "metadata": {
    "collapsed": false
   },
   "outputs": [
    {
     "data": {
      "text/plain": [
       "[u'\\u559c\\u4f86', u'\\u5341\\u4e8c', u'All', u'can', u'eat']"
      ]
     },
     "execution_count": 42,
     "metadata": {},
     "output_type": "execute_result"
    }
   ],
   "source": [
    "creat_long(cut_title(gcf.first()[0]))"
   ]
  },
  {
   "cell_type": "markdown",
   "metadata": {},
   "source": [
    "### 將英文詞分割出來"
   ]
  },
  {
   "cell_type": "code",
   "execution_count": 43,
   "metadata": {
    "collapsed": false
   },
   "outputs": [],
   "source": [
    "def separate_eng(input_str):\n",
    "    result = list()\n",
    "    for i in input_str:\n",
    "        if i.isalpha() and (('A' <= i[0] <= 'Z') or ('a' <= i[0] <= 'z')):\n",
    "            result.append(i)\n",
    "    return result"
   ]
  },
  {
   "cell_type": "code",
   "execution_count": 44,
   "metadata": {
    "collapsed": false
   },
   "outputs": [],
   "source": [
    "aa = separate_eng(cut_title(gcf.first()[0]))\n",
    "#print aa\n",
    "#print gcf.collect()"
   ]
  },
  {
   "cell_type": "markdown",
   "metadata": {},
   "source": [
    "### 長詞的比較"
   ]
  },
  {
   "cell_type": "code",
   "execution_count": 45,
   "metadata": {
    "collapsed": true
   },
   "outputs": [],
   "source": [
    "def long_term_compare(title, name):\n",
    "    count = 0\n",
    "    for i in title:\n",
    "        if i in name:\n",
    "            count += 1\n",
    "    return count"
   ]
  },
  {
   "cell_type": "code",
   "execution_count": 46,
   "metadata": {
    "collapsed": true
   },
   "outputs": [],
   "source": [
    "def bio_long_term_compare(title, name):\n",
    "    count = 0\n",
    "    for i in title:\n",
    "        if i in name:\n",
    "            count += 1\n",
    "    return count"
   ]
  },
  {
   "cell_type": "markdown",
   "metadata": {},
   "source": [
    "### 包含全部詞的比較"
   ]
  },
  {
   "cell_type": "code",
   "execution_count": 47,
   "metadata": {
    "collapsed": true
   },
   "outputs": [],
   "source": [
    "def term_compare(title, name):\n",
    "    term_count = 0\n",
    "    for i in title:\n",
    "        if i in name:\n",
    "            term_count += 1\n",
    "    return term_count"
   ]
  },
  {
   "cell_type": "code",
   "execution_count": 48,
   "metadata": {
    "collapsed": true
   },
   "outputs": [],
   "source": [
    "def bio_term_compare(title, name):\n",
    "    term_count = 0\n",
    "    for i in title:\n",
    "        if i in name:\n",
    "            term_count += 1\n",
    "    return term_count"
   ]
  },
  {
   "cell_type": "code",
   "execution_count": 49,
   "metadata": {
    "collapsed": false
   },
   "outputs": [
    {
     "data": {
      "text/plain": [
       "3"
      ]
     },
     "execution_count": 49,
     "metadata": {},
     "output_type": "execute_result"
    }
   ],
   "source": [
    "q1 = ['大便','好臭','誰的','肥宅','滴油']\n",
    "q2 = ['大便','好臭','誰的']\n",
    "term_compare(q1, q2)"
   ]
  },
  {
   "cell_type": "markdown",
   "metadata": {},
   "source": [
    "### 導入計分function"
   ]
  },
  {
   "cell_type": "code",
   "execution_count": 50,
   "metadata": {
    "collapsed": true
   },
   "outputs": [],
   "source": [
    "def calculate_pts(short_uni, short_bio, long_uni, long_bio, eng_name, exact):\n",
    "    return ((1*short_uni)+(2*short_bio)+(1*long_uni)+(4*long_bio)+(4*eng_name)+(100000*exact))"
   ]
  },
  {
   "cell_type": "markdown",
   "metadata": {},
   "source": [
    "### 實作預測函式"
   ]
  },
  {
   "cell_type": "code",
   "execution_count": 51,
   "metadata": {
    "collapsed": false
   },
   "outputs": [],
   "source": [
    "def predict_restaurant(title):\n",
    "    title_token = cut_title(title)\n",
    "    biogram_title_token = bio_wordset(title_token)\n",
    "    long_title_token = creat_long(title_token)\n",
    "    long_biogram_title_token = bio_wordset(long_title_token)\n",
    "    Eng_title_token = separate_eng(title_token)\n",
    "    pts_list = list()\n",
    "    exact_pts = 0\n",
    "    for i in res_data:\n",
    "#        print (\"--------------\",i, '------------------')\n",
    "#        exact_pts = exact_match(i, title)\n",
    "#        print exact_pts\n",
    "        name_token = cut_title(i)\n",
    "#        print (\"--------------\",name_token, '------------------')\n",
    "        biogram_name_token = bio_wordset(name_token)\n",
    "#        print (\"--------------\", biogram_name_token, '------------------')\n",
    "        long_name_token = creat_long(name_token)\n",
    "#        print (\"--------------\", long_name_token, '------------------')\n",
    "        long_biogram_name_token = bio_wordset(long_name_token)\n",
    "#        print (\"--------------\", long_biogram_name_token, '------------------')\n",
    "        Eng_name_token = separate_eng(name_token)\n",
    "#        print (\"--------------\", Eng_name_token, '------------------')\n",
    "#        print \"=========================\"\n",
    "#        print i\n",
    "#        print title\n",
    "#        print \"=========================\"\n",
    "        short_uni = term_compare(title_token, name_token)\n",
    "#        print (\"--------------\", short_uni, '------------------')\n",
    "        short_bio = bio_term_compare(biogram_title_token,biogram_name_token)\n",
    "#        print (\"--------------\", short_bio, '------------------')\n",
    "        long_uni = long_term_compare(long_title_token, long_name_token)\n",
    "#        print (\"--------------\", long_uni, '------------------')\n",
    "        long_bio = bio_long_term_compare(long_biogram_title_token, long_biogram_name_token)\n",
    "#        print (\"--------------\", long_bio, '------------------')\n",
    "        eng_name = term_compare(Eng_title_token, Eng_name_token)\n",
    "#        print (\"--------------\", eng_name, '------------------')\n",
    "#        print \"=========================\"\n",
    "#        print short_uni\n",
    "#        print \"=========================\"\n",
    "        pts_list.append(calculate_pts(short_uni, short_bio, long_uni, long_bio, eng_name, exact_pts))#\n",
    "    \n",
    "    rank_list = zip(pts_list, res_data)\n",
    "    rank_list_sorted = sorted(rank_list, reverse = True)\n",
    "    return rank_list_sorted[:3]"
   ]
  },
  {
   "cell_type": "markdown",
   "metadata": {},
   "source": [
    "### 對所有文章的標題進行預測"
   ]
  },
  {
   "cell_type": "code",
   "execution_count": 52,
   "metadata": {
    "collapsed": true
   },
   "outputs": [],
   "source": [
    "last_test = gcf.map(lambda x: x[0]).map(lambda x : predict_restaurant(x))"
   ]
  },
  {
   "cell_type": "code",
   "execution_count": 53,
   "metadata": {
    "collapsed": true
   },
   "outputs": [],
   "source": [
    "aa = [(13, u'\\u65b0\\u7af9\\u559c\\u4f86\\u767b\\u5927\\u98ef\\u5e97'),\n",
    "  (13, u'\\u5341\\u4e8c\\u5eda\\u81ea\\u52a9\\u9910\\u5ef3 '),\n",
    "  (6, u'TKK BUFFET \\u9802\\u5471\\u5471\\u81ea\\u52a9\\u5427')]"
   ]
  },
  {
   "cell_type": "code",
   "execution_count": 54,
   "metadata": {
    "collapsed": false
   },
   "outputs": [
    {
     "name": "stdout",
     "output_type": "stream",
     "text": [
      "新竹喜來登大飯店\n",
      "十二廚自助餐廳 \n",
      "TKK BUFFET 頂呱呱自助吧\n"
     ]
    }
   ],
   "source": [
    "for ii in aa:\n",
    "    print ii[1]"
   ]
  },
  {
   "cell_type": "code",
   "execution_count": 55,
   "metadata": {
    "collapsed": false
   },
   "outputs": [],
   "source": [
    "qqq = last_test.collect()"
   ]
  },
  {
   "cell_type": "code",
   "execution_count": 56,
   "metadata": {
    "collapsed": true
   },
   "outputs": [],
   "source": [
    "#print qqq"
   ]
  },
  {
   "cell_type": "code",
   "execution_count": null,
   "metadata": {
    "collapsed": true
   },
   "outputs": [],
   "source": []
  }
 ],
 "metadata": {
  "kernelspec": {
   "display_name": "Python 2",
   "language": "python",
   "name": "python2"
  },
  "language_info": {
   "codemirror_mode": {
    "name": "ipython",
    "version": 2
   },
   "file_extension": ".py",
   "mimetype": "text/x-python",
   "name": "python",
   "nbconvert_exporter": "python",
   "pygments_lexer": "ipython2",
   "version": "2.7.6"
  }
 },
 "nbformat": 4,
 "nbformat_minor": 0
}
