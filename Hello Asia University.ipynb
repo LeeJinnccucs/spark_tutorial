{
 "cells": [
  {
   "cell_type": "markdown",
   "metadata": {},
   "source": [
    "# 下載亞洲大學首頁內容"
   ]
  },
  {
   "cell_type": "code",
   "execution_count": null,
   "metadata": {
    "collapsed": false
   },
   "outputs": [],
   "source": [
    "!wget http://www.asia.edu.tw/"
   ]
  },
  {
   "cell_type": "markdown",
   "metadata": {},
   "source": [
    "# 讀取網頁"
   ]
  },
  {
   "cell_type": "code",
   "execution_count": null,
   "metadata": {
    "collapsed": false
   },
   "outputs": [],
   "source": [
    "homepage = sc.textFile('./index.html',use_unicode=False)"
   ]
  },
  {
   "cell_type": "markdown",
   "metadata": {},
   "source": [
    "### RDD Basic Function List\n",
    "* count() : 取得 RDD 裡頭元素個數\n",
    "* first() : 取得 RDD 裡頭第一個元素\n",
    "* take(n) : 取得 RDD 裡頭前 n 個元素\n",
    "* collect(n) : 取得 RDD 裡頭所有的元素\n"
   ]
  },
  {
   "cell_type": "markdown",
   "metadata": {},
   "source": [
    "# 計算出這個檔案總共有多少行"
   ]
  },
  {
   "cell_type": "code",
   "execution_count": null,
   "metadata": {
    "collapsed": false
   },
   "outputs": [],
   "source": [
    "print \"總共有:\",homepage.count(),\"行\""
   ]
  },
  {
   "cell_type": "markdown",
   "metadata": {},
   "source": [
    "# 印出第一行"
   ]
  },
  {
   "cell_type": "code",
   "execution_count": null,
   "metadata": {
    "collapsed": false
   },
   "outputs": [],
   "source": [
    "print homepage.first()"
   ]
  },
  {
   "cell_type": "markdown",
   "metadata": {},
   "source": [
    "# 印出前十行"
   ]
  },
  {
   "cell_type": "code",
   "execution_count": null,
   "metadata": {
    "collapsed": false
   },
   "outputs": [],
   "source": [
    "for line in homepage.take(10):\n",
    "    print line"
   ]
  },
  {
   "cell_type": "markdown",
   "metadata": {},
   "source": [
    "# Python 中判斷是否有出現這某各字串"
   ]
  },
  {
   "cell_type": "code",
   "execution_count": null,
   "metadata": {
    "collapsed": false
   },
   "outputs": [],
   "source": [
    "if \"亞洲\" in \"亞洲大學由蔡長海教授與林增連先生共同創辦\":\n",
    "    print \"有在裡面\""
   ]
  },
  {
   "cell_type": "markdown",
   "metadata": {},
   "source": [
    "# 請取代???完成以下的程式碼，並計算\"亞洲\" 所出現的行數"
   ]
  },
  {
   "cell_type": "code",
   "execution_count": null,
   "metadata": {
    "collapsed": false
   },
   "outputs": [],
   "source": [
    "count = 0\n",
    "for line in homepage.???:\n",
    "    if \"???\" in line :\n",
    "        count = count + 1\n",
    "print count"
   ]
  },
  {
   "cell_type": "code",
   "execution_count": null,
   "metadata": {
    "collapsed": false
   },
   "outputs": [],
   "source": [
    "if count == 29 : print \"Good Job 你答對了\"\n",
    "else : print \"請再試一次\""
   ]
  },
  {
   "cell_type": "code",
   "execution_count": 20,
   "metadata": {
    "collapsed": false
   },
   "outputs": [
    {
     "name": "stdout",
     "output_type": "stream",
     "text": [
      "Reading package lists... Done\n",
      "Building dependency tree       \n",
      "Reading state information... Done\n",
      "python-dev is already the newest version.\n",
      "The following NEW packages will be installed:\n",
      "  libxml2-dev libxslt1-dev libxslt1.1\n",
      "0 upgraded, 3 newly installed, 0 to remove and 138 not upgraded.\n",
      "Need to get 1174 kB of archives.\n",
      "After this operation, 5311 kB of additional disk space will be used.\n",
      "Get:1 http://archive.ubuntu.com/ubuntu/ trusty/main libxslt1.1 i386 1.1.28-2build1 [140 kB]\n",
      "Get:2 http://archive.ubuntu.com/ubuntu/ trusty-updates/main libxml2-dev i386 2.9.1+dfsg1-3ubuntu4.4 [628 kB]\n",
      "Get:3 http://archive.ubuntu.com/ubuntu/ trusty/main libxslt1-dev i386 1.1.28-2build1 [405 kB]\n",
      "Fetched 1174 kB in 10s (115 kB/s)\n",
      "Selecting previously unselected package libxslt1.1:i386.\n",
      "(Reading database ... 64402 files and directories currently installed.)\n",
      "Preparing to unpack .../libxslt1.1_1.1.28-2build1_i386.deb ...\n",
      "Unpacking libxslt1.1:i386 (1.1.28-2build1) ...\n",
      "Selecting previously unselected package libxml2-dev:i386.\n",
      "Preparing to unpack .../libxml2-dev_2.9.1+dfsg1-3ubuntu4.4_i386.deb ...\n",
      "Unpacking libxml2-dev:i386 (2.9.1+dfsg1-3ubuntu4.4) ...\n",
      "Selecting previously unselected package libxslt1-dev:i386.\n",
      "Preparing to unpack .../libxslt1-dev_1.1.28-2build1_i386.deb ...\n",
      "Unpacking libxslt1-dev:i386 (1.1.28-2build1) ...\n",
      "Processing triggers for man-db (2.6.7.1-1ubuntu1) ...\n",
      "Setting up libxslt1.1:i386 (1.1.28-2build1) ...\n",
      "Setting up libxml2-dev:i386 (2.9.1+dfsg1-3ubuntu4.4) ...\n",
      "Setting up libxslt1-dev:i386 (1.1.28-2build1) ...\n",
      "Processing triggers for libc-bin (2.19-0ubuntu6.6) ...\n"
     ]
    }
   ],
   "source": [
    "!sudo apt-get install libxml2-dev libxslt1-dev python-dev"
   ]
  },
  {
   "cell_type": "code",
   "execution_count": 21,
   "metadata": {
    "collapsed": false
   },
   "outputs": [
    {
     "name": "stdout",
     "output_type": "stream",
     "text": [
      "Reading package lists... Done\n",
      "Building dependency tree       \n",
      "Reading state information... Done\n",
      "Suggested packages:\n",
      "  python-lxml-dbg\n",
      "The following NEW packages will be installed:\n",
      "  python-lxml\n",
      "0 upgraded, 1 newly installed, 0 to remove and 138 not upgraded.\n",
      "Need to get 583 kB of archives.\n",
      "After this operation, 2402 kB of additional disk space will be used.\n",
      "Get:1 http://archive.ubuntu.com/ubuntu/ trusty-updates/main python-lxml i386 3.3.3-1ubuntu0.1 [583 kB]\n",
      "Fetched 583 kB in 11s (52.5 kB/s)\n",
      "Selecting previously unselected package python-lxml.\n",
      "(Reading database ... 64625 files and directories currently installed.)\n",
      "Preparing to unpack .../python-lxml_3.3.3-1ubuntu0.1_i386.deb ...\n",
      "Unpacking python-lxml (3.3.3-1ubuntu0.1) ...\n",
      "Setting up python-lxml (3.3.3-1ubuntu0.1) ...\n"
     ]
    }
   ],
   "source": []
  },
  {
   "cell_type": "code",
   "execution_count": null,
   "metadata": {
    "collapsed": true
   },
   "outputs": [],
   "source": []
  }
 ],
 "metadata": {
  "kernelspec": {
   "display_name": "Python 2",
   "language": "python",
   "name": "python2"
  },
  "language_info": {
   "codemirror_mode": {
    "name": "ipython",
    "version": 2
   },
   "file_extension": ".py",
   "mimetype": "text/x-python",
   "name": "python",
   "nbconvert_exporter": "python",
   "pygments_lexer": "ipython2",
   "version": "2.7.6"
  }
 },
 "nbformat": 4,
 "nbformat_minor": 0
}
