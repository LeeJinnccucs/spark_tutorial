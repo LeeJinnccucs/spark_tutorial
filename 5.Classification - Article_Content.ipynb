{
 "cells": [
  {
   "cell_type": "markdown",
   "metadata": {},
   "source": [
    "# Parse Json"
   ]
  },
  {
   "cell_type": "code",
   "execution_count": null,
   "metadata": {
    "collapsed": true
   },
   "outputs": [],
   "source": [
    "def parseRaw(json_map):\n",
    "    url = json_map['url']\n",
    "    content = json_map['html']\n",
    "    return (url,content)"
   ]
  },
  {
   "cell_type": "markdown",
   "metadata": {},
   "source": [
    "# 使用 BeautifulSoup 及 Jieba 來處理文章內容"
   ]
  },
  {
   "cell_type": "code",
   "execution_count": null,
   "metadata": {
    "collapsed": false
   },
   "outputs": [],
   "source": [
    "## getContent: for input aritcle, get it own word set via jieba.cut()\n",
    "def getContent(x):\n",
    "    from bs4 import BeautifulSoup\n",
    "    soup = BeautifulSoup(x)\n",
    "    text = soup.getText().replace('\\n','').replace('\\r','').replace(' ','').replace('\\t','')\n",
    "    import jieba\n",
    "    r = list()\n",
    "    for term in jieba.cut(text):\n",
    "        if len(term) > 1 and checkword(term): r.append(term)\n",
    "    return r\n",
    "def checkword(x):\n",
    "    return all(u'\\u4e00' <= c <= u'\\u9fff' for c in x)"
   ]
  },
  {
   "cell_type": "markdown",
   "metadata": {},
   "source": [
    "# 載入原始 RAW Data"
   ]
  },
  {
   "cell_type": "code",
   "execution_count": null,
   "metadata": {
    "collapsed": true
   },
   "outputs": [],
   "source": [
    "import json\n",
    "travel_content = sc.textFile(\"./pixnet.txt\").map(json.loads).map(parseRaw)\n",
    "makeup_content = sc.textFile(\"./makeup.txt\").map(json.loads).map(parseRaw)"
   ]
  },
  {
   "cell_type": "markdown",
   "metadata": {},
   "source": [
    "#建立詞庫對照表"
   ]
  },
  {
   "cell_type": "code",
   "execution_count": null,
   "metadata": {
    "collapsed": false
   },
   "outputs": [],
   "source": [
    "## get terms for all of training data\n",
    "tr_terms = travel_content.map(lambda x : getContent(x[1])).flatMap(lambda x : x)\n",
    "mk_terms = makeup_content.map(lambda x : getContent(x[1])).flatMap(lambda x : x)\n",
    "all_terms = tr_terms.union(mk_terms).distinct().collect()\n",
    "all_terms_map = dict()\n",
    "index = 0 \n",
    "for i in all_terms:\n",
    "    all_terms_map[i] = index\n",
    "    index+=1\n",
    "## all_terms_map is the mapping of (term : index) for the whole training set\n",
    "all_terms_map"
   ]
  },
  {
   "cell_type": "markdown",
   "metadata": {},
   "source": [
    "### MLlib Introduction\n",
    "\n",
    "- `SparseVector` 是 MLlib 裡 model 的一種常用 input 格式，基本格式為 SparseVector(Length, Dict(key, value))。透過這樣的格式，在對於一些稀疏不齊的 Vector 做 dot 相關運算時，可節省許多空間運用。 [Doc](https://spark.apache.org/docs/1.1.0/api/python/pyspark.mllib.linalg.SparseVector-class.html)\n",
    "- `LabeledPoint` 則是 for Regression 運算的專用格式，基本就是替每筆 SparseVector 資料加上 Label，也就是 training set 所需要的標籤答案，表示如下：LabeledPoint(label, SparseVector)。 [Doc](https://spark.apache.org/docs/0.8.1/api/mllib/org/apache/spark/mllib/regression/LabeledPoint.html)"
   ]
  },
  {
   "cell_type": "code",
   "execution_count": null,
   "metadata": {
    "collapsed": false
   },
   "outputs": [],
   "source": [
    "from pyspark.mllib.linalg import Vectors ,SparseVector\n",
    "from pyspark.mllib.regression import LabeledPoint\n",
    "\n",
    "def mapFeature(terms):\n",
    "    fs = dict()\n",
    "    for term in terms:\n",
    "        if term not in all_terms_map : continue\n",
    "        index = all_terms_map[term]\n",
    "        if index not in fs:\n",
    "            fs[index] = 1\n",
    "        else :\n",
    "            fs[index] += 1\n",
    "    return fs\n",
    "\n",
    "def buildFeature(label,terms):\n",
    "    fs = mapFeature(terms)\n",
    "    vec = SparseVector(len(all_terms_map),fs)\n",
    "    return LabeledPoint(label, vec)\n",
    "\n",
    "## Produce LabeledPoint for both training data\n",
    "tr_fs = travel_content.map(lambda x : buildFeature(0, getContent(x[1])))\n",
    "mk_fs = makeup_content.map(lambda x : buildFeature(1, getContent(x[1])))"
   ]
  },
  {
   "cell_type": "code",
   "execution_count": null,
   "metadata": {
    "collapsed": false
   },
   "outputs": [],
   "source": [
    "all_fs =  tr_fs.union(mk_fs)\n",
    "\n",
    "## Verify total article number\n",
    "all_fs.count()"
   ]
  },
  {
   "cell_type": "markdown",
   "metadata": {},
   "source": [
    "# 建立 Naive Bayes Classifier"
   ]
  },
  {
   "cell_type": "markdown",
   "metadata": {},
   "source": [
    "### MLlib NaiveBayes\n",
    "\n",
    "NaiveBayes.train(training_data, lambda, model_type)\n",
    "- training_data: LabeledPoint RDD\n",
    "- lambda: NaiveBayes smoothing parameter\n",
    "- model_type: Supported options: \"multinomial\" (default) and \"bernoulli\""
   ]
  },
  {
   "cell_type": "code",
   "execution_count": null,
   "metadata": {
    "collapsed": false
   },
   "outputs": [],
   "source": [
    "from pyspark.mllib.classification import NaiveBayes, NaiveBayesModel\n",
    "from pyspark.mllib.linalg import Vectors\n",
    "from pyspark.mllib.regression import LabeledPoint\n",
    "model = NaiveBayes.train(all_fs, 1.0)"
   ]
  },
  {
   "cell_type": "markdown",
   "metadata": {},
   "source": [
    "#來問一下電腦吧，這個句子是一類的？？"
   ]
  },
  {
   "cell_type": "code",
   "execution_count": null,
   "metadata": {
    "collapsed": false
   },
   "outputs": [],
   "source": [
    "import jieba\n",
    "doc = jieba.cut(\"我想要去馬來西亞來去旅遊\")\n",
    "\n",
    "## Create SparseVector type testing data\n",
    "f = SparseVector(len(all_terms_map),mapFeature(doc))\n",
    "\n",
    "## Make a prediction\n",
    "if model.predict(f) ==1 :\n",
    "    print \"這是美妝類\"\n",
    "else :\n",
    "    print \"這是旅遊類\""
   ]
  },
  {
   "cell_type": "code",
   "execution_count": null,
   "metadata": {
    "collapsed": false
   },
   "outputs": [],
   "source": [
    "doc = list(jieba.cut(\"我想要買化妝品，且變漂亮\"))\n",
    "f = SparseVector(len(all_terms_map),mapFeature(doc))\n",
    "if model.predict(f) ==1 :\n",
    "    print \"這是美妝類\"\n",
    "else :\n",
    "    print \"這是旅遊類\""
   ]
  },
  {
   "cell_type": "code",
   "execution_count": null,
   "metadata": {
    "collapsed": true
   },
   "outputs": [],
   "source": []
  }
 ],
 "metadata": {
  "kernelspec": {
   "display_name": "Python 2",
   "language": "python",
   "name": "python2"
  },
  "language_info": {
   "codemirror_mode": {
    "name": "ipython",
    "version": 2
   },
   "file_extension": ".py",
   "mimetype": "text/x-python",
   "name": "python",
   "nbconvert_exporter": "python",
   "pygments_lexer": "ipython2",
   "version": "2.7.6"
  }
 },
 "nbformat": 4,
 "nbformat_minor": 0
}
