{
 "cells": [
  {
   "cell_type": "markdown",
   "metadata": {},
   "source": [
    "# 安裝相關套件"
   ]
  },
  {
   "cell_type": "code",
   "execution_count": null,
   "metadata": {
    "collapsed": true
   },
   "outputs": [],
   "source": [
    "!sudo apt-get install libxml2-dev libxslt1-dev python-dev\n",
    "# install html parser\n",
    "!sudo apt-get install python-lxml\n",
    "# install chinease cuting package\n",
    "!sudo pip install jieba\n",
    "# install beautifulsoup4   \n",
    "!sudo pip install BeautifulSoup4"
   ]
  },
  {
   "cell_type": "markdown",
   "metadata": {},
   "source": [
    "# 欲抓的網頁列表"
   ]
  },
  {
   "cell_type": "code",
   "execution_count": null,
   "metadata": {
    "collapsed": true
   },
   "outputs": [],
   "source": [
    "urllist = ['http://lohas.pixnet.net/blog/post/31969271',\n",
    "           'http://lohas.pixnet.net/blog/post/32286983',\n",
    "           'http://lohas.pixnet.net/blog/post/31423623',\n",
    "           'http://lohas.pixnet.net/blog/post/31466711',\n",
    "           'http://lohas.pixnet.net/blog/post/40148737',\n",
    "          ]"
   ]
  },
  {
   "cell_type": "markdown",
   "metadata": {},
   "source": [
    "# 下載網頁並且組成一個檔案"
   ]
  },
  {
   "cell_type": "code",
   "execution_count": null,
   "metadata": {
    "collapsed": false
   },
   "outputs": [],
   "source": [
    "import urllib2\n",
    "import json\n",
    "f = open('./pixnet.txt',\"w\")\n",
    "\n",
    "for u in urllist:\n",
    "    line = {}\n",
    "    response = urllib2.urlopen(u)\n",
    "    html = response.read()\n",
    "    html = html.replace('\\r','').replace('\\n','')\n",
    "    line['html'] = html\n",
    "    line['url'] =u\n",
    "    \n",
    "    line_str = json.dumps(line)\n",
    "    \n",
    "    f.write(line_str+\"\\r\\n\")\n",
    "f.close()"
   ]
  },
  {
   "cell_type": "markdown",
   "metadata": {},
   "source": [
    "# 我們來看一下實際檔案的內容\n",
    "[請點即此鏈結](http://localhost:8001/edit/spark_tutorial/pixnet.txt)"
   ]
  },
  {
   "cell_type": "markdown",
   "metadata": {},
   "source": [
    "# 載入頁面，並進行 json parsing"
   ]
  },
  {
   "cell_type": "code",
   "execution_count": null,
   "metadata": {
    "collapsed": false
   },
   "outputs": [],
   "source": [
    "pixnet = sc.textFile('./pixnet.txt',use_unicode=False).map(\n",
    "    lambda x : json.loads(x)).map(lambda x : (x['url'],x['html']))\n",
    "\n",
    "print \"URL:\", pixnet.first()[0]\n",
    "print\n",
    "print \"HTML:\", pixnet.first()[1][:200]\n"
   ]
  },
  {
   "cell_type": "markdown",
   "metadata": {},
   "source": [
    "## RDD 常用的 Function 如下\n",
    "* map(funct) - 對 RDD 的裡頭的元素進行處理動作\n",
    "* mapValues (func) - 排除 Key,只對 RDD 的裡頭的元素進行處理動作\n",
    "* reduceByKey(func) - 將相同的 Key 裡頭的 Values 給予合併起來\n",
    "* count() - 計算 RDD 裡頭元素的個數\n",
    "* filter(func) - 根據 condition 判斷是否需要保留\n",
    "* first() - 取得 RDD 裡頭的第一個元素"
   ]
  },
  {
   "cell_type": "markdown",
   "metadata": {},
   "source": [
    "## <span style=\"color: blue\"> 請填入??，來計算\"好吃\"的次數(多少頁面之中)</span>"
   ]
  },
  {
   "cell_type": "code",
   "execution_count": null,
   "metadata": {
    "collapsed": false
   },
   "outputs": [],
   "source": [
    "count_nummber = pixnet.filter(lambda x : u\"好吃\" in x[1] ).count()\n",
    "if count_nummber == 5 : print \"你答對了\""
   ]
  },
  {
   "cell_type": "markdown",
   "metadata": {},
   "source": [
    "##<span style=\"color: blue\">請修改以下的程式碼，並計算\"很好\"所有出現次數，注意!!不是頁面數</span>\n",
    " <span style=\"color:red\">提示:修改 word_count 函式</span>"
   ]
  },
  {
   "cell_type": "code",
   "execution_count": null,
   "metadata": {
    "collapsed": false
   },
   "outputs": [],
   "source": [
    "def word_count(text):\n",
    "    return text.count(u\"好吃\")\n",
    "\n",
    "print \"很好出現了\",word_count(u\"老師很好很好很好很好！！！！\"),\"次\""
   ]
  },
  {
   "cell_type": "code",
   "execution_count": null,
   "metadata": {
    "collapsed": false
   },
   "outputs": [],
   "source": [
    "pixnet.mapValues(word_count).map(lambda x : x[1]).sum()"
   ]
  },
  {
   "cell_type": "markdown",
   "metadata": {
    "collapsed": true
   },
   "source": [
    "# Use Beautiful Soaup Parse HTML"
   ]
  },
  {
   "cell_type": "code",
   "execution_count": null,
   "metadata": {
    "collapsed": false
   },
   "outputs": [],
   "source": [
    "mydivs = None\n",
    "def analysis_content(content):\n",
    "    from bs4 import BeautifulSoup\n",
    "    soup = BeautifulSoup(content)\n",
    "    mydivs = soup.findAll(\"div\", { \"class\" : \"article-content-inner\" })\n",
    "    return mydivs[0].getText()\n"
   ]
  },
  {
   "cell_type": "code",
   "execution_count": null,
   "metadata": {
    "collapsed": false
   },
   "outputs": [],
   "source": [
    "print pixnet.map(analysis_content).first()[:100]"
   ]
  },
  {
   "cell_type": "code",
   "execution_count": null,
   "metadata": {
    "collapsed": false
   },
   "outputs": [],
   "source": [
    "sc.parallelize(urllist)"
   ]
  },
  {
   "cell_type": "code",
   "execution_count": null,
   "metadata": {
    "collapsed": true
   },
   "outputs": [],
   "source": []
  }
 ],
 "metadata": {
  "kernelspec": {
   "display_name": "Python 2",
   "language": "python",
   "name": "python2"
  },
  "language_info": {
   "codemirror_mode": {
    "name": "ipython",
    "version": 2
   },
   "file_extension": ".py",
   "mimetype": "text/x-python",
   "name": "python",
   "nbconvert_exporter": "python",
   "pygments_lexer": "ipython2",
   "version": "2.7.6"
  }
 },
 "nbformat": 4,
 "nbformat_minor": 0
}
