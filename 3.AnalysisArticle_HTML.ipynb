{
 "cells": [
  {
   "cell_type": "markdown",
   "metadata": {},
   "source": [
    "# Parse Json"
   ]
  },
  {
   "cell_type": "code",
   "execution_count": null,
   "metadata": {
    "collapsed": true
   },
   "outputs": [],
   "source": [
    "def parseRaw(json_map):\n",
    "    url = json_map['url']\n",
    "    content = json_map['html']\n",
    "    return (url,content)"
   ]
  },
  {
   "cell_type": "markdown",
   "metadata": {},
   "source": [
    "# 載入原始 RAW Data"
   ]
  },
  {
   "cell_type": "code",
   "execution_count": null,
   "metadata": {
    "collapsed": true
   },
   "outputs": [],
   "source": [
    "import json\n",
    "import pprint\n",
    "pp = pprint.PrettyPrinter(indent=2)\n",
    "path = \"./pixnet.txt\"\n",
    "all_content = sc.textFile(path).map(json.loads).map(parseRaw)"
   ]
  },
  {
   "cell_type": "markdown",
   "metadata": {},
   "source": [
    "# 利用 LXML Parser 來分析文章結構"
   ]
  },
  {
   "cell_type": "code",
   "execution_count": null,
   "metadata": {
    "collapsed": true
   },
   "outputs": [],
   "source": [
    "def parseImgSrc(x):\n",
    "    try:\n",
    "        urls = list()\n",
    "        import lxml.html\n",
    "        from urlparse import urlparse\n",
    "        node = lxml.html.fromstring(x)\n",
    "        root =  node.getroottree()\n",
    "        for src in root.xpath('//img/@src'):\n",
    "            try :\n",
    "                host = urlparse(src).netloc\n",
    "                if '.' not in host : continue\n",
    "                if host.count('.') == 1 : \n",
    "                    pass\n",
    "                else: \n",
    "                    host = host[host.index('.')+1:]\n",
    "                urls.append('imgsrc_'+host)\n",
    "            except :\n",
    "                print \"Error Parse At:\" , src\n",
    "            \n",
    "        for src in root.xpath('//input[@src]/@src'):\n",
    "            try :\n",
    "                host = urlparse(src).netloc\n",
    "                if '.' not in host : continue\n",
    "                if host.count('.') == 1 : \n",
    "                    pass\n",
    "                else: \n",
    "                    host = host[host.index('.')+1:]\n",
    "                urls.append('imgsrc_'+host)\n",
    "            except :\n",
    "                print \"Error parseImgSrc At:\" , src\n",
    "        \n",
    "    except :\n",
    "        print \"Unexpected error:\", sys.exc_info()\n",
    "    return  urls"
   ]
  },
  {
   "cell_type": "code",
   "execution_count": null,
   "metadata": {
    "collapsed": false
   },
   "outputs": [],
   "source": [
    "all_content.map(lambda x: x[1]).first()[:100]"
   ]
  },
  {
   "cell_type": "markdown",
   "metadata": {},
   "source": [
    "# 取出 Image Src 的列表"
   ]
  },
  {
   "cell_type": "code",
   "execution_count": null,
   "metadata": {
    "collapsed": false
   },
   "outputs": [],
   "source": [
    "image_list = all_content.map(lambda x :parseImgSrc(x[1]))\n",
    "pp.pprint(image_list.first()[:10])"
   ]
  },
  {
   "cell_type": "markdown",
   "metadata": {},
   "source": [
    "# 統計 Image Src 的列表"
   ]
  },
  {
   "cell_type": "code",
   "execution_count": null,
   "metadata": {
    "collapsed": false
   },
   "outputs": [],
   "source": [
    "img_src_count = all_content.map(\n",
    "    lambda x :parseImgSrc(x[1])).flatMap(\n",
    "    lambda x: x).countByValue()\n",
    "for i in img_src_count:\n",
    "    print i , ':' , img_src_count[i]"
   ]
  },
  {
   "cell_type": "markdown",
   "metadata": {},
   "source": [
    "#<span style=\"color: blue\">請使用　reduceByKey , sortBy 來計算出 img src 排行榜</span>\n",
    "請參照以下文件\n",
    "[http://spark.apache.org/docs/latest/api/python/pyspark.html#pyspark.RDD]"
   ]
  },
  {
   "cell_type": "code",
   "execution_count": null,
   "metadata": {
    "collapsed": false
   },
   "outputs": [],
   "source": [
    "from operator import add\n",
    "all_content.map(\n",
    "    lambda x :parseImgSrc(x[1])).???"
   ]
  },
  {
   "cell_type": "markdown",
   "metadata": {},
   "source": [
    "#正確的排行如下：\n",
    "<code> \n",
    "[('imgsrc_pixfs.net', 219),\n",
    " ('imgsrc_agoda.net', 103),\n",
    " ('imgsrc_static.flickr.com', 53),\n",
    " ('imgsrc_staticflickr.com', 28),\n",
    " ('imgsrc_pimg.tw', 19),\n",
    " ('imgsrc_facebook.com', 12),\n",
    " ('imgsrc_sitebro.com', 10),\n",
    " ('imgsrc_linkwithin.com', 5),\n",
    " ('imgsrc_cloudfront.net', 5),\n",
    " ('imgsrc_prchecker.info', 5),\n",
    " ('imgsrc_visit-japan.jp', 5),\n",
    " ('imgsrc_yimg.com', 2),\n",
    " ('imgsrc_zenfs.com', 2),\n",
    " ('imgsrc_googleusercontent.com', 1)]\n",
    "</code>"
   ]
  },
  {
   "cell_type": "markdown",
   "metadata": {},
   "source": []
  },
  {
   "cell_type": "code",
   "execution_count": null,
   "metadata": {
    "collapsed": true
   },
   "outputs": [],
   "source": []
  }
 ],
 "metadata": {
  "kernelspec": {
   "display_name": "Python 2",
   "language": "python",
   "name": "python2"
  },
  "language_info": {
   "codemirror_mode": {
    "name": "ipython",
    "version": 2
   },
   "file_extension": ".py",
   "mimetype": "text/x-python",
   "name": "python",
   "nbconvert_exporter": "python",
   "pygments_lexer": "ipython2",
   "version": "2.7.6"
  }
 },
 "nbformat": 4,
 "nbformat_minor": 0
}
