{
 "cells": [
  {
   "cell_type": "code",
   "execution_count": 3,
   "metadata": {
    "collapsed": false
   },
   "outputs": [
    {
     "name": "stdout",
     "output_type": "stream",
     "text": [
      "['/mnt/opt/spark/python/lib/py4j-0.8.2.1-src.zip', '/mnt/opt/spark/python', '', '/usr/local/lib/python2.7/dist-packages/setuptools-18.2-py2.7.egg', '/usr/lib/python2.7', '/usr/lib/python2.7/plat-x86_64-linux-gnu', '/usr/lib/python2.7/lib-tk', '/usr/lib/python2.7/lib-old', '/usr/lib/python2.7/lib-dynload', '/usr/local/lib/python2.7/dist-packages', '/usr/lib/python2.7/dist-packages', '/usr/lib/python2.7/dist-packages/PILcompat', '/usr/lib/python2.7/dist-packages/gtk-2.0', '/usr/lib/pymodules/python2.7', '/usr/local/lib/python2.7/dist-packages/IPython/extensions']\n",
      "Welcome to\n",
      "      ____              __\n",
      "     / __/__  ___ _____/ /__\n",
      "    _\\ \\/ _ \\/ _ `/ __/  '_/\n",
      "   /__ / .__/\\_,_/_/ /_/\\_\\   version 1.4.1\n",
      "      /_/\n",
      "\n",
      "Using Python version 2.7.6 (default, Jun 22 2015 17:58:13)\n",
      "SparkContext available as sc, SQLContext available as sqlContext.\n"
     ]
    }
   ],
   "source": [
    "import os\n",
    "import sys\n",
    "\n",
    "spark_home = os.environ.get('SPARK_HOME', None)\n",
    "if not spark_home:\n",
    "    raise ValueError('SPARK_HOME environment variable is not set')\n",
    "sys.path.insert(0, os.path.join(spark_home, 'python'))\n",
    "sys.path.insert(0, os.path.join(spark_home, 'python/lib/py4j-0.8.2.1-src.zip'))\n",
    "\n",
    "print sys.path\n",
    "\n",
    "execfile(os.path.join(spark_home, 'python/pyspark/shell.py'))"
   ]
  },
  {
   "cell_type": "markdown",
   "metadata": {},
   "source": [
    "# Parse Json"
   ]
  },
  {
   "cell_type": "code",
   "execution_count": 13,
   "metadata": {
    "collapsed": true
   },
   "outputs": [],
   "source": [
    "def parseRaw(json_map):\n",
    "    url = json_map['url']\n",
    "    content = json_map['html']\n",
    "    return (url,content)"
   ]
  },
  {
   "cell_type": "markdown",
   "metadata": {},
   "source": [
    "# 載入原始 RAW Data"
   ]
  },
  {
   "cell_type": "code",
   "execution_count": 38,
   "metadata": {
    "collapsed": true
   },
   "outputs": [],
   "source": [
    "import json\n",
    "import pprint\n",
    "pp = pprint.PrettyPrinter(indent=2)\n",
    "path = \"./pixnet.txt\"\n",
    "all_content = sc.textFile(path).map(json.loads).map(parseRaw)"
   ]
  },
  {
   "cell_type": "markdown",
   "metadata": {},
   "source": [
    "# 利用 LXML Parser 來分析文章結構"
   ]
  },
  {
   "cell_type": "code",
   "execution_count": 39,
   "metadata": {
    "collapsed": true
   },
   "outputs": [],
   "source": [
    "def parseImgSrc(x):\n",
    "    try:\n",
    "        urls = list()\n",
    "        import lxml.html\n",
    "        from urlparse import urlparse\n",
    "        node = lxml.html.fromstring(x)\n",
    "        t =  root.getroottree()\n",
    "        for src in root.xpath('//img/@src'):\n",
    "            try :\n",
    "                host = urlparse(src).netloc\n",
    "                if '.' not in host : continue\n",
    "                if host.count('.') == 1 : \n",
    "                    pass\n",
    "                else: \n",
    "                    host = host[host.index('.')+1:]\n",
    "                urls.append('imgsrc_'+host)\n",
    "            except :\n",
    "                print \"Error Parse At:\" , src\n",
    "            \n",
    "        for src in root.xpath('//input[@src]/@src'):\n",
    "            try :\n",
    "                host = urlparse(src).netloc\n",
    "                if '.' not in host : continue\n",
    "                if host.count('.') == 1 : \n",
    "                    pass\n",
    "                else: \n",
    "                    host = host[host.index('.')+1:]\n",
    "                urls.append('imgsrc_'+host)\n",
    "            except :\n",
    "                print \"Error parseImgSrc At:\" , src\n",
    "        \n",
    "    except :\n",
    "        pass\n",
    "    return  urls"
   ]
  },
  {
   "cell_type": "markdown",
   "metadata": {},
   "source": [
    "# 取出 Image Src 的列表"
   ]
  },
  {
   "cell_type": "code",
   "execution_count": 41,
   "metadata": {
    "collapsed": false
   },
   "outputs": [
    {
     "name": "stdout",
     "output_type": "stream",
     "text": [
      "[ 'imgsrc_cloudfront.net',\n",
      "  'imgsrc_static.flickr.com',\n",
      "  'imgsrc_agoda.net',\n",
      "  'imgsrc_pixfs.net',\n",
      "  'imgsrc_pixfs.net',\n",
      "  'imgsrc_pixfs.net',\n",
      "  'imgsrc_pixfs.net',\n",
      "  'imgsrc_pimg.tw',\n",
      "  'imgsrc_pixfs.net',\n",
      "  'imgsrc_pixfs.net']\n"
     ]
    }
   ],
   "source": [
    "image_list = all_content.map(lambda x :parseImgSrc(x[1]))\n",
    "pp.pprint(image_list.first()[:10])"
   ]
  },
  {
   "cell_type": "markdown",
   "metadata": {},
   "source": [
    "# 統計 Image Src 的列表"
   ]
  },
  {
   "cell_type": "code",
   "execution_count": 47,
   "metadata": {
    "collapsed": false
   },
   "outputs": [
    {
     "name": "stdout",
     "output_type": "stream",
     "text": [
      "imgsrc_linkwithin.com : 5\n",
      "imgsrc_sitebro.com : 10\n",
      "imgsrc_cloudfront.net : 5\n",
      "imgsrc_prchecker.info : 5\n",
      "imgsrc_pimg.tw : 19\n",
      "imgsrc_agoda.net : 103\n",
      "imgsrc_googleusercontent.com : 1\n",
      "imgsrc_visit-japan.jp : 5\n",
      "imgsrc_yimg.com : 2\n",
      "imgsrc_pixfs.net : 219\n",
      "imgsrc_zenfs.com : 2\n",
      "imgsrc_static.flickr.com : 53\n",
      "imgsrc_staticflickr.com : 28\n",
      "imgsrc_facebook.com : 12\n"
     ]
    }
   ],
   "source": [
    "img_src_count = all_content.map(\n",
    "    lambda x :parseImgSrc(x[1])).flatMap(\n",
    "    lambda x: x).countByValue()\n",
    "for i in img_src_count:\n",
    "    print i , ':' , img_src_count[i]"
   ]
  },
  {
   "cell_type": "markdown",
   "metadata": {},
   "source": [
    "#<span style=\"color: blue\">請使用　reduceByKey , sortBy 來計算出 img src 排行榜</span>\n",
    "請參照以下文件\n",
    "[http://spark.apache.org/docs/latest/api/python/pyspark.html#pyspark.RDD]"
   ]
  },
  {
   "cell_type": "code",
   "execution_count": null,
   "metadata": {
    "collapsed": false
   },
   "outputs": [],
   "source": [
    "from operator import add\n",
    "all_content.map(\n",
    "    lambda x :parseImgSrc(x[1])).???"
   ]
  },
  {
   "cell_type": "markdown",
   "metadata": {},
   "source": [
    "#正確的排行如下：\n",
    "<code> \n",
    "[('imgsrc_pixfs.net', 219),\n",
    " ('imgsrc_agoda.net', 103),\n",
    " ('imgsrc_static.flickr.com', 53),\n",
    " ('imgsrc_staticflickr.com', 28),\n",
    " ('imgsrc_pimg.tw', 19),\n",
    " ('imgsrc_facebook.com', 12),\n",
    " ('imgsrc_sitebro.com', 10),\n",
    " ('imgsrc_linkwithin.com', 5),\n",
    " ('imgsrc_cloudfront.net', 5),\n",
    " ('imgsrc_prchecker.info', 5),\n",
    " ('imgsrc_visit-japan.jp', 5),\n",
    " ('imgsrc_yimg.com', 2),\n",
    " ('imgsrc_zenfs.com', 2),\n",
    " ('imgsrc_googleusercontent.com', 1)]\n",
    "</code>"
   ]
  },
  {
   "cell_type": "markdown",
   "metadata": {},
   "source": []
  },
  {
   "cell_type": "code",
   "execution_count": null,
   "metadata": {
    "collapsed": true
   },
   "outputs": [],
   "source": []
  }
 ],
 "metadata": {
  "kernelspec": {
   "display_name": "Python 2",
   "language": "python",
   "name": "python2"
  },
  "language_info": {
   "codemirror_mode": {
    "name": "ipython",
    "version": 2
   },
   "file_extension": ".py",
   "mimetype": "text/x-python",
   "name": "python",
   "nbconvert_exporter": "python",
   "pygments_lexer": "ipython2",
   "version": "2.7.6"
  }
 },
 "nbformat": 4,
 "nbformat_minor": 0
}
